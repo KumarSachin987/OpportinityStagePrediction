{
 "cells": [
  {
   "cell_type": "code",
   "execution_count": 1,
   "id": "cd3fd474",
   "metadata": {},
   "outputs": [],
   "source": [
    "import pandas as pd\n",
    "import seaborn as sns\n",
    "import matplotlib.pyplot as plt"
   ]
  },
  {
   "cell_type": "code",
   "execution_count": 2,
   "id": "28528677",
   "metadata": {},
   "outputs": [],
   "source": [
    "closedLostOpps = pd.read_csv('oppDataClosedLost.csv')"
   ]
  },
  {
   "cell_type": "code",
   "execution_count": 3,
   "id": "80cc81d4",
   "metadata": {},
   "outputs": [],
   "source": [
    "closedWonOpps = pd.read_csv('oppDataClosedWon.csv')"
   ]
  },
  {
   "cell_type": "code",
   "execution_count": 4,
   "id": "8e98355a",
   "metadata": {},
   "outputs": [],
   "source": [
    "df = pd.concat([closedLostOpps, closedWonOpps], axis=0)"
   ]
  },
  {
   "cell_type": "code",
   "execution_count": 5,
   "id": "ece52fb6",
   "metadata": {},
   "outputs": [
    {
     "data": {
      "text/plain": [
       "(2000, 737)"
      ]
     },
     "execution_count": 5,
     "metadata": {},
     "output_type": "execute_result"
    }
   ],
   "source": [
    "df.shape"
   ]
  },
  {
   "cell_type": "code",
   "execution_count": 6,
   "id": "f0400458",
   "metadata": {},
   "outputs": [],
   "source": [
    "nan_cols = [i for i in df.columns if df[i].isnull().all()]"
   ]
  },
  {
   "cell_type": "code",
   "execution_count": 7,
   "id": "44400bcd",
   "metadata": {},
   "outputs": [
    {
     "data": {
      "text/plain": [
       "198"
      ]
     },
     "execution_count": 7,
     "metadata": {},
     "output_type": "execute_result"
    }
   ],
   "source": [
    "len(nan_cols)"
   ]
  },
  {
   "cell_type": "code",
   "execution_count": 8,
   "id": "c8c7a682",
   "metadata": {},
   "outputs": [],
   "source": [
    "df.drop(nan_cols,axis=1,inplace=True)"
   ]
  },
  {
   "cell_type": "code",
   "execution_count": 9,
   "id": "2a65b203",
   "metadata": {},
   "outputs": [
    {
     "data": {
      "text/plain": [
       "(2000, 539)"
      ]
     },
     "execution_count": 9,
     "metadata": {},
     "output_type": "execute_result"
    }
   ],
   "source": [
    "df.shape"
   ]
  },
  {
   "cell_type": "code",
   "execution_count": 10,
   "id": "26984618",
   "metadata": {},
   "outputs": [],
   "source": [
    "perc = 30.0\n",
    "min_count =  int(((100-perc)/100)*df.shape[0] + 1)\n",
    "mod_df = df.dropna( axis=1, \n",
    "                thresh=min_count,inplace=True)"
   ]
  },
  {
   "cell_type": "code",
   "execution_count": 11,
   "id": "c6b9af5a",
   "metadata": {},
   "outputs": [
    {
     "data": {
      "text/plain": [
       "(2000, 236)"
      ]
     },
     "execution_count": 11,
     "metadata": {},
     "output_type": "execute_result"
    }
   ],
   "source": [
    "df.shape"
   ]
  },
  {
   "cell_type": "code",
   "execution_count": 12,
   "id": "7ebe6c3e",
   "metadata": {},
   "outputs": [
    {
     "name": "stdout",
     "output_type": "stream",
     "text": [
      "APEX_PARTNER_REBATE_PROGRAM__C\n",
      "APTS_ACCOUNT_ELIGIBLE__C\n",
      "APTS_AGREEMENT_GUIDANCE__C\n",
      "APTS_AGREEMENT_NOT_NEEDED__C\n",
      "APTS_APTTUS_OPPORTUNITY__C\n",
      "APTS_BU_GUIDANCE_RECEIVED__C\n",
      "APTS_CHECK_COMPLIANCE_UPDATED__C\n",
      "APTS_ISSYSTEMSINTEGRATOR__C\n",
      "APTS_NAT_APPROVAL_VERSION__C\n",
      "APTS_OWNER_REGION__C\n",
      "APTS_QUOTENOTNEEDED__C\n",
      "APTS_SHOWVALIDATEMESSAGE__C\n",
      "APTS_TOTAL_BU_SPLIT__C\n",
      "ACCOUNTID\n",
      "ACCOUNTKEY__C\n",
      "ACCOUNTOWNER__C\n",
      "AGE_IN_DAYS__C\n",
      "AGE_OF_OPPORTUNITY__C\n",
      "AMOUNT\n",
      "AMOUNTTEXT__C\n",
      "AMOUNT_FOR_SKUID__C\n",
      "ANNUAL_THRESHOLD_EXCEPTION__C\n",
      "AUTO_CLOSE_ELIGIBLE__C\n",
      "BIGMACHINES__LINE_ITEMS__C\n",
      "BILLING_AMOUNTMISMATCH__C\n",
      "BILLING_CITY__C\n",
      "BILLING_COUNTRY__C\n",
      "BILLING_STATE__C\n",
      "BILLING_STREET__C\n",
      "BILLING_ZIP__C\n",
      "BUDGET__C\n",
      "BUSINESSDAYSINENGAGEMENT__C\n",
      "CANADIAN_FEDERAL_GOVERNMENT__C\n",
      "CHINA_CAT__C\n",
      "CHINA_LOA__C\n",
      "CLAIM__C\n",
      "CLOSEDATE\n",
      "CLOSE_DATE_MOVED__C\n",
      "CLOSE_MONTH_NUM__C\n",
      "CLOSE_OPPORTUNITY_REQUESTED_BY_PARTNER__C\n",
      "COMPETITIVE_DEAL__C\n",
      "CONTRACT_DATES_ALIGNED__C\n",
      "COUNTRY_OF_ORDER_FORMULA__C\n",
      "COUNTRY_OF_ORDER__C\n",
      "CREATEDBYID\n",
      "CREATEDDATE\n",
      "CREATED_DATE_COMPARED_TO_CLOSE_DATE__C\n",
      "CREATED_BY_DIRECT_SALES__C\n",
      "CREDITCHECKED__C\n",
      "CURRENCYISOCODE\n",
      "CURRENT_USER_OF_PRODUCT_LINE__C\n",
      "CUSTOMER_DASHBOARDS__C\n",
      "CUSTOMER_ENGAGEMENT_CENTER__C\n",
      "DATA_SCIENCE_PROBABILITY_OPTION_1__C\n",
      "DATA_SCIENCE_PROBABILITY_OPTION_2__C\n",
      "DATA_SCIENCE_PROBABILITY_OPTION_3__C\n",
      "DATE_BOOKED_CHANGED__C\n",
      "DATE_SUBMITTED_CHANGED__C\n",
      "DAY_OF_WEEK_NUM__C\n",
      "DAY_OF_WEEK__C\n",
      "DAYS_LEFT_UNTIL_EXPIRE__C\n",
      "DAYS_UNTIL_CLOSE_DATE__C\n",
      "DEAL_FORWARD__C\n",
      "DEAL_REGISTRATION_EXPIRED__C\n",
      "DEAL_REGISTRATION_FED_SLED__C\n",
      "DEAL_REGISTRATION__C\n",
      "DECISION__C\n",
      "DESCRIPTION_OF_PRODUCT_LINES__C\n",
      "DIFF_BW_EXPIRING_PRODUCT_AND_OPP_TOTAL__C\n",
      "DIGITAL_RENEWAL_AMOUNT_USD__C\n",
      "DIGITAL_RENEWAL_OPPORTUNITY__C\n",
      "DIGITAL_RENEWAL_QUOTE_GENERATED__C\n",
      "DIGITAL_TRANSFORMATION__C\n",
      "DISTRIBUTOR_ANNUAL_PAY_PROGRAM__C\n",
      "DO_NOT_PUBLISH_TO_BUS_ACCOUNT__C\n",
      "DO_NOT_PUBLISH_TO_BUS__C\n",
      "ELQ_USD_AMT__C\n",
      "EMEA_SE_REQUIRED__C\n",
      "EMBEDDED__C\n",
      "EXPECTEDREVENUE\n",
      "EXPECTED_SYB_OPP__C\n",
      "EXPIRING_PRODUCTS_TOTAL_AMOUNT_ROLLUP__C\n",
      "EXPIRING_PRODUCTS_TOTAL_AMOUNT__C\n",
      "EXTENDED_TOTAL_PRICE__C\n",
      "FISCAL\n",
      "FISCALQUARTER\n",
      "FISCALYEAR\n",
      "FISCAL_QUARTER_YEAR__C\n",
      "FISCAL_QUARTER__C\n",
      "FISCAL_YEAR__C\n",
      "FORECASTCATEGORY\n",
      "FORECASTCATEGORYNAME\n",
      "FORECAST_INTERVAL__C\n",
      "FRAMEWORK_ON_FILE__C\n",
      "FULFILLMENTCHANNEL__C\n",
      "FULL_OPPORTUNITY_PLAN_CHECKBOX__C\n",
      "FULL_OPPORTUNITY_PLAN_TEMPLATE__C\n",
      "GRAND_TOTAL_SKU_PRICE__C\n",
      "HASOPENACTIVITY\n",
      "HASOPPORTUNITYLINEITEM\n",
      "HASOVERDUETASK\n",
      "IBM_OPPORTUNITY__C\n",
      "ID\n",
      "INITIAL_OPPORTUNITY_PLAN_CHECKBOX__C\n",
      "INITIAL_OPPORTUNITY_PLAN_TEMPLATE__C\n",
      "INNOVATION_LABS_BOOKING_AMOUNT__C\n",
      "INTERCOMPANY_BOOKING__C\n",
      "ISATTACHEDTOEXISTING__C\n",
      "ISCLOSED\n",
      "ISDELETED\n",
      "ISEXCLUDEDFROMTERRITORY2FILTER\n",
      "ISLOCKEDFORSALES__C\n",
      "ISOWNERLOOKUPCURRENT__C\n",
      "ISPRIVATE\n",
      "ISRENEWALMISSING__C\n",
      "ISSPLIT\n",
      "ISSTAGINGREFERRED__C\n",
      "ISWON\n",
      "IS_NEXT_STEP_POPULATED__C\n",
      "IS_PAR__C\n",
      "IS_PULLAHEAD__C\n",
      "JBOSS_PRODUCT_OPP2__C\n",
      "LASTMODIFIEDBYID\n",
      "LASTMODIFIEDDATE\n",
      "LASTSTAGECHANGEDATE\n",
      "LEANDATA__DAYS_TO_CLOSE__C\n",
      "LEGACY_PROFILE__C\n",
      "MARKET_DEV_CREATED_OPP__C\n",
      "MARKET_DEV_OPP_AMOUNT_CONVERTED_USD__C\n",
      "NFR_QUANTITY__C\n",
      "NAME\n",
      "NEW_BUSINESS__C\n",
      "NEXT_STEPS_POPULATED__C\n",
      "NOTIFY_BILLING__C\n",
      "NOTIFY_CREDIT__C\n",
      "NOTIFY_ORDER_ENTRY__C\n",
      "NUMBER_OF_CONSULTING_FP_PRODUCTS__C\n",
      "NUMBER_OF_CONSULTING_PRODUCTS__C\n",
      "NUMBER_OF_OPPORTUNITIES__C\n",
      "OM_REVIEW_COMPLETE__C\n",
      "OPP_OWNER_DIFFERS_FROM_ACCT_OWNER__C\n",
      "OPPORTUNITYNUMBER__C\n",
      "OPPORTUNITY_COMPLETENESS_STATUS__C\n",
      "OPPORTUNITY_ID__C\n",
      "OPPORTUNITY_AMOUNT_MISMATCH_FLAG__C\n",
      "ORIGINAL_OPP_CONTAINS_OTD__C\n",
      "ORIGINAL_TO_RENEWAL_COUNTRY_COMPARE__C\n",
      "OVERRIDE_AUTO_CLOSE__C\n",
      "OWNERID\n",
      "OWNER__C\n",
      "POC_APPROVED_BY_BU_MANAGEMENT__C\n",
      "POC_APPROVED_BY_SA_MANAGEMENT__C\n",
      "POC_ASSIGNED_BY_SA_MANAGEMENT__C\n",
      "POC_PAID_OPPORTUNITY_COUNT__C\n",
      "POC_PAID__C\n",
      "POC_SUBMIT_FOR_BU_APPROVAL__C\n",
      "PARTNER_CREATED__C\n",
      "PARTNER_MULTIPLIER__C\n",
      "PAY_NO__C\n",
      "PAYMENTTYPE__C\n",
      "PENDING_OM_REVIEW__C\n",
      "PERCENT_OF_CREDIT_LIMIT__C\n",
      "PREVIOUS_RED_HAT_CONSULTING_INVOLVEMENT__C\n",
      "PRICEBOOK2ID\n",
      "PROBABILITY\n",
      "PRODUCTSWITHOUTCONTRACTNUMBERCOUNT__C\n",
      "PROJECT_BUDGETED__C\n",
      "PULLAHEAD_REPORT_IDENTIFIER__C\n",
      "PUSHCOUNT\n",
      "RECORDTYPEID\n",
      "RECORDTYPE__C\n",
      "RED_HAT_TOTAL_REVENUE__C\n",
      "REGION2__C\n",
      "REGION__C\n",
      "REGION_OF_ORDER__C\n",
      "REMINDER__C\n",
      "RENEWAL_OPPORTUNITY__C\n",
      "REPROCESS__C\n",
      "REQUIRE_POC_APPROVAL_CLOUD_RHEV__C\n",
      "REQUIRE_POC_APPROVAL_GPS__C\n",
      "REQUIRE_POC_APPROVAL_GSS__C\n",
      "REQUIRE_POC_APPROVAL_MIDDLEWARE__C\n",
      "REQUIRE_POC_APPROVAL_PLATFORM__C\n",
      "REQUIRE_POC_APPROVAL_STORAGE__C\n",
      "RISK_RATING__C\n",
      "ROYALTY_OPP_LOCKED__C\n",
      "RUSH_ORDER_SET_BY_SYSTEM__C\n",
      "RUSH_ORDER__C\n",
      "SSI_IN_SCOPE__C\n",
      "SEND_NOTIFICATION_TO_OPP_OWNER__C\n",
      "SENDINGMEDIA__C\n",
      "SERVICES_RISK_REVIEW__C\n",
      "SET_AS_DEFAULT_PROFILE__C\n",
      "STAGENAME\n",
      "SYSTEMMODSTAMP\n",
      "TIMETILLORDERBOOKED__C\n",
      "TIME__C\n",
      "TODAY_FISCAL_QUARTER_YEAR__C\n",
      "TOTALAMOUNT__C\n",
      "TOTALOPPORTUNITYQUANTITY\n",
      "TOUCHED__C\n",
      "TRIAGE_OPPORTUNITY__C\n",
      "TRUE_UP__C\n",
      "UPGRADE_REMIX__C\n",
      "VOUPDATE__C\n",
      "VALUE_SELLING_STAGE__C\n",
      "VIEW_FORWARDED_LEAD__C\n",
      "VO_STATUS_MSG__C\n",
      "YEAR1AMOUNTAUTO__C\n",
      "YEAR1AMOUNTTEXT__C\n",
      "YEAR1AMOUNT__C\n",
      "YEAR2AMOUNTAUTO__C\n",
      "YEAR2AMOUNTTEXT__C\n",
      "YEAR2AMOUNT__C\n",
      "YEAR3AMOUNTAUTO__C\n",
      "YEAR3AMOUNTTEXT__C\n",
      "YEAR3AMOUNT__C\n",
      "YEAR4AMOUNTAUTO__C\n",
      "YEAR4AMOUNTTEXT__C\n",
      "YEAR4AMOUNT__C\n",
      "YEAR5AMOUNTAUTO__C\n",
      "YEAR5AMOUNTTEXT__C\n",
      "YEAR5AMOUNT__C\n",
      "YEAR6AMOUNTAUTO__C\n",
      "YEAR6AMOUNTTEXT__C\n",
      "YEAR6AMOUNT__C\n",
      "CHECK_AMOUNT_MISMATCH__C\n",
      "FROMRENEWAL__C\n",
      "ISONSALEHOLD__C\n",
      "ISRENEWED__C\n",
      "OF_EXPIRING_PRODUCTS__C\n",
      "PSE__ISPARENTOPPORTUNITYSERVICES__C\n",
      "PSE__IS_CHANGE_REQUEST__C\n",
      "PSE__IS_SERVICES_OPPORTUNITY__C\n",
      "PSE__SERVICES_ATTACHED_FROM_PRODUCTS__C\n",
      "PSE__SERVICES_ATTACHED_PERCENT_FROM_PRODUCTS__C\n"
     ]
    }
   ],
   "source": [
    "for col in df.columns:\n",
    "    print(col)"
   ]
  },
  {
   "cell_type": "code",
   "execution_count": 13,
   "id": "b6b322f7",
   "metadata": {},
   "outputs": [],
   "source": [
    "new_df=df[['OF_EXPIRING_PRODUCTS__C','PRICEBOOK2ID','APTS_ACCOUNT_ELIGIBLE__C','APTS_AGREEMENT_GUIDANCE__C','NEXT_STEPS_POPULATED__C','FULFILLMENTCHANNEL__C','PAYMENTTYPE__C','COUNTRY_OF_ORDER__C','RECORDTYPE__C','AMOUNT','REGION__C','STAGENAME','DATA_SCIENCE_PROBABILITY_OPTION_1__C','BILLING_AMOUNTMISMATCH__C','CLOSE_DATE_MOVED__C']]"
   ]
  },
  {
   "cell_type": "code",
   "execution_count": 14,
   "id": "63672356",
   "metadata": {},
   "outputs": [
    {
     "data": {
      "text/plain": [
       "(2000, 15)"
      ]
     },
     "execution_count": 14,
     "metadata": {},
     "output_type": "execute_result"
    }
   ],
   "source": [
    "new_df.shape"
   ]
  },
  {
   "cell_type": "markdown",
   "id": "3df6997e",
   "metadata": {},
   "source": [
    "#### "
   ]
  },
  {
   "cell_type": "code",
   "execution_count": 15,
   "id": "8179b584",
   "metadata": {},
   "outputs": [
    {
     "data": {
      "text/plain": [
       "OF_EXPIRING_PRODUCTS__C                   int64\n",
       "PRICEBOOK2ID                             object\n",
       "APTS_ACCOUNT_ELIGIBLE__C                   bool\n",
       "APTS_AGREEMENT_GUIDANCE__C               object\n",
       "NEXT_STEPS_POPULATED__C                    bool\n",
       "FULFILLMENTCHANNEL__C                    object\n",
       "PAYMENTTYPE__C                           object\n",
       "COUNTRY_OF_ORDER__C                      object\n",
       "RECORDTYPE__C                            object\n",
       "AMOUNT                                  float64\n",
       "REGION__C                                object\n",
       "STAGENAME                                object\n",
       "DATA_SCIENCE_PROBABILITY_OPTION_1__C     object\n",
       "BILLING_AMOUNTMISMATCH__C                  bool\n",
       "CLOSE_DATE_MOVED__C                        bool\n",
       "dtype: object"
      ]
     },
     "execution_count": 15,
     "metadata": {},
     "output_type": "execute_result"
    }
   ],
   "source": [
    "new_df.dtypes"
   ]
  },
  {
   "cell_type": "code",
   "execution_count": 16,
   "id": "4e8c24ac",
   "metadata": {},
   "outputs": [
    {
     "data": {
      "text/plain": [
       "array([ True, False])"
      ]
     },
     "execution_count": 16,
     "metadata": {},
     "output_type": "execute_result"
    }
   ],
   "source": [
    "new_df.APTS_ACCOUNT_ELIGIBLE__C.unique()                   "
   ]
  },
  {
   "cell_type": "code",
   "execution_count": 17,
   "id": "ca59e567",
   "metadata": {},
   "outputs": [
    {
     "data": {
      "text/plain": [
       "array([ True])"
      ]
     },
     "execution_count": 17,
     "metadata": {},
     "output_type": "execute_result"
    }
   ],
   "source": [
    "new_df.NEXT_STEPS_POPULATED__C.unique()"
   ]
  },
  {
   "cell_type": "code",
   "execution_count": 18,
   "id": "1dd12e6c",
   "metadata": {},
   "outputs": [
    {
     "data": {
      "text/plain": [
       "array([False,  True])"
      ]
     },
     "execution_count": 18,
     "metadata": {},
     "output_type": "execute_result"
    }
   ],
   "source": [
    "new_df.BILLING_AMOUNTMISMATCH__C.unique()"
   ]
  },
  {
   "cell_type": "code",
   "execution_count": 19,
   "id": "672db6da",
   "metadata": {},
   "outputs": [
    {
     "data": {
      "text/plain": [
       "array([ True, False])"
      ]
     },
     "execution_count": 19,
     "metadata": {},
     "output_type": "execute_result"
    }
   ],
   "source": [
    "new_df.CLOSE_DATE_MOVED__C.unique()"
   ]
  },
  {
   "cell_type": "code",
   "execution_count": 20,
   "id": "42be5068",
   "metadata": {},
   "outputs": [
    {
     "name": "stderr",
     "output_type": "stream",
     "text": [
      "C:\\Users\\DELL\\AppData\\Local\\Temp/ipykernel_8468/1951485365.py:1: SettingWithCopyWarning: \n",
      "A value is trying to be set on a copy of a slice from a DataFrame.\n",
      "Try using .loc[row_indexer,col_indexer] = value instead\n",
      "\n",
      "See the caveats in the documentation: https://pandas.pydata.org/pandas-docs/stable/user_guide/indexing.html#returning-a-view-versus-a-copy\n",
      "  new_df['APTS_ACCOUNT_ELIGIBLE__C'] = new_df['APTS_ACCOUNT_ELIGIBLE__C'].astype(int)\n"
     ]
    }
   ],
   "source": [
    "new_df['APTS_ACCOUNT_ELIGIBLE__C'] = new_df['APTS_ACCOUNT_ELIGIBLE__C'].astype(int)"
   ]
  },
  {
   "cell_type": "code",
   "execution_count": 21,
   "id": "e0ba8492",
   "metadata": {},
   "outputs": [
    {
     "name": "stderr",
     "output_type": "stream",
     "text": [
      "C:\\Users\\DELL\\AppData\\Local\\Temp/ipykernel_8468/1029670678.py:1: SettingWithCopyWarning: \n",
      "A value is trying to be set on a copy of a slice from a DataFrame.\n",
      "Try using .loc[row_indexer,col_indexer] = value instead\n",
      "\n",
      "See the caveats in the documentation: https://pandas.pydata.org/pandas-docs/stable/user_guide/indexing.html#returning-a-view-versus-a-copy\n",
      "  new_df['NEXT_STEPS_POPULATED__C'] = new_df['NEXT_STEPS_POPULATED__C'].astype(int)\n"
     ]
    }
   ],
   "source": [
    "new_df['NEXT_STEPS_POPULATED__C'] = new_df['NEXT_STEPS_POPULATED__C'].astype(int)"
   ]
  },
  {
   "cell_type": "code",
   "execution_count": 22,
   "id": "6e834fd8",
   "metadata": {},
   "outputs": [
    {
     "name": "stderr",
     "output_type": "stream",
     "text": [
      "C:\\Users\\DELL\\AppData\\Local\\Temp/ipykernel_8468/953175282.py:1: SettingWithCopyWarning: \n",
      "A value is trying to be set on a copy of a slice from a DataFrame.\n",
      "Try using .loc[row_indexer,col_indexer] = value instead\n",
      "\n",
      "See the caveats in the documentation: https://pandas.pydata.org/pandas-docs/stable/user_guide/indexing.html#returning-a-view-versus-a-copy\n",
      "  new_df['BILLING_AMOUNTMISMATCH__C'] = new_df['BILLING_AMOUNTMISMATCH__C'].astype(int)\n"
     ]
    }
   ],
   "source": [
    "new_df['BILLING_AMOUNTMISMATCH__C'] = new_df['BILLING_AMOUNTMISMATCH__C'].astype(int)"
   ]
  },
  {
   "cell_type": "code",
   "execution_count": 23,
   "id": "1b1db9cf",
   "metadata": {},
   "outputs": [
    {
     "name": "stderr",
     "output_type": "stream",
     "text": [
      "C:\\Users\\DELL\\AppData\\Local\\Temp/ipykernel_8468/3872598482.py:1: SettingWithCopyWarning: \n",
      "A value is trying to be set on a copy of a slice from a DataFrame.\n",
      "Try using .loc[row_indexer,col_indexer] = value instead\n",
      "\n",
      "See the caveats in the documentation: https://pandas.pydata.org/pandas-docs/stable/user_guide/indexing.html#returning-a-view-versus-a-copy\n",
      "  new_df['CLOSE_DATE_MOVED__C'] = new_df['CLOSE_DATE_MOVED__C'].astype(int)\n"
     ]
    }
   ],
   "source": [
    "new_df['CLOSE_DATE_MOVED__C'] = new_df['CLOSE_DATE_MOVED__C'].astype(int)"
   ]
  },
  {
   "cell_type": "code",
   "execution_count": 24,
   "id": "9ef30392",
   "metadata": {},
   "outputs": [
    {
     "data": {
      "text/plain": [
       "OF_EXPIRING_PRODUCTS__C                   int64\n",
       "PRICEBOOK2ID                             object\n",
       "APTS_ACCOUNT_ELIGIBLE__C                  int32\n",
       "APTS_AGREEMENT_GUIDANCE__C               object\n",
       "NEXT_STEPS_POPULATED__C                   int32\n",
       "FULFILLMENTCHANNEL__C                    object\n",
       "PAYMENTTYPE__C                           object\n",
       "COUNTRY_OF_ORDER__C                      object\n",
       "RECORDTYPE__C                            object\n",
       "AMOUNT                                  float64\n",
       "REGION__C                                object\n",
       "STAGENAME                                object\n",
       "DATA_SCIENCE_PROBABILITY_OPTION_1__C     object\n",
       "BILLING_AMOUNTMISMATCH__C                 int32\n",
       "CLOSE_DATE_MOVED__C                       int32\n",
       "dtype: object"
      ]
     },
     "execution_count": 24,
     "metadata": {},
     "output_type": "execute_result"
    }
   ],
   "source": [
    "new_df.dtypes"
   ]
  },
  {
   "cell_type": "code",
   "execution_count": 25,
   "id": "cb5f97ab",
   "metadata": {},
   "outputs": [
    {
     "name": "stderr",
     "output_type": "stream",
     "text": [
      "c:\\users\\dell\\appdata\\local\\programs\\python\\python39\\lib\\site-packages\\pandas\\core\\frame.py:4901: SettingWithCopyWarning: \n",
      "A value is trying to be set on a copy of a slice from a DataFrame\n",
      "\n",
      "See the caveats in the documentation: https://pandas.pydata.org/pandas-docs/stable/user_guide/indexing.html#returning-a-view-versus-a-copy\n",
      "  return super().drop(\n"
     ]
    }
   ],
   "source": [
    "new_df.drop(['APTS_AGREEMENT_GUIDANCE__C'],axis=1,inplace=True)"
   ]
  },
  {
   "cell_type": "code",
   "execution_count": 26,
   "id": "8ca63ade",
   "metadata": {},
   "outputs": [
    {
     "data": {
      "text/plain": [
       "Direct - End Customer                     610\n",
       "Distributor                               418\n",
       "Indirect - VAR/VAD                        273\n",
       "Direct End Customer                       167\n",
       "Indirect – Webstore                        87\n",
       "Direct – OEM                               79\n",
       "Direct - DLT                               73\n",
       "Webstore                                   67\n",
       "OEM                                        57\n",
       "Direct Reseller                            53\n",
       "Indirect – OEM Preload                     52\n",
       "Cloud Service Provider                     20\n",
       "Direct - VAR/VAD                           19\n",
       "Direct - Carahsoft                         14\n",
       "Direct - GTSI                               9\n",
       "Indirect - Internal Commissions Credit      2\n",
       "Name: FULFILLMENTCHANNEL__C, dtype: int64"
      ]
     },
     "execution_count": 26,
     "metadata": {},
     "output_type": "execute_result"
    }
   ],
   "source": [
    "new_df.FULFILLMENTCHANNEL__C.value_counts()"
   ]
  },
  {
   "cell_type": "code",
   "execution_count": 27,
   "id": "51f2b09a",
   "metadata": {},
   "outputs": [
    {
     "data": {
      "text/plain": [
       "Purchase Order          1060\n",
       "Channel Fulfillment      363\n",
       "Credit Card              180\n",
       "NA Purchase Order        140\n",
       "Pre-Pay                   90\n",
       "EMEA Purchase Order       75\n",
       "APAC Purchase Order       32\n",
       "LATAM Purchase Order      15\n",
       "Name: PAYMENTTYPE__C, dtype: int64"
      ]
     },
     "execution_count": 27,
     "metadata": {},
     "output_type": "execute_result"
    }
   ],
   "source": [
    "new_df.PAYMENTTYPE__C.value_counts()                           "
   ]
  },
  {
   "cell_type": "code",
   "execution_count": 28,
   "id": "fe485bd4",
   "metadata": {},
   "outputs": [
    {
     "data": {
      "text/plain": [
       "OF_EXPIRING_PRODUCTS__C                   int64\n",
       "PRICEBOOK2ID                             object\n",
       "APTS_ACCOUNT_ELIGIBLE__C                  int32\n",
       "NEXT_STEPS_POPULATED__C                   int32\n",
       "FULFILLMENTCHANNEL__C                    object\n",
       "PAYMENTTYPE__C                           object\n",
       "COUNTRY_OF_ORDER__C                      object\n",
       "RECORDTYPE__C                            object\n",
       "AMOUNT                                  float64\n",
       "REGION__C                                object\n",
       "STAGENAME                                object\n",
       "DATA_SCIENCE_PROBABILITY_OPTION_1__C     object\n",
       "BILLING_AMOUNTMISMATCH__C                 int32\n",
       "CLOSE_DATE_MOVED__C                       int32\n",
       "dtype: object"
      ]
     },
     "execution_count": 28,
     "metadata": {},
     "output_type": "execute_result"
    }
   ],
   "source": [
    "new_df.dtypes"
   ]
  },
  {
   "cell_type": "code",
   "execution_count": 29,
   "id": "25fa0666",
   "metadata": {},
   "outputs": [
    {
     "data": {
      "text/html": [
       "<div>\n",
       "<style scoped>\n",
       "    .dataframe tbody tr th:only-of-type {\n",
       "        vertical-align: middle;\n",
       "    }\n",
       "\n",
       "    .dataframe tbody tr th {\n",
       "        vertical-align: top;\n",
       "    }\n",
       "\n",
       "    .dataframe thead th {\n",
       "        text-align: right;\n",
       "    }\n",
       "</style>\n",
       "<table border=\"1\" class=\"dataframe\">\n",
       "  <thead>\n",
       "    <tr style=\"text-align: right;\">\n",
       "      <th></th>\n",
       "      <th>OF_EXPIRING_PRODUCTS__C</th>\n",
       "      <th>PRICEBOOK2ID</th>\n",
       "      <th>APTS_ACCOUNT_ELIGIBLE__C</th>\n",
       "      <th>NEXT_STEPS_POPULATED__C</th>\n",
       "      <th>FULFILLMENTCHANNEL__C</th>\n",
       "      <th>PAYMENTTYPE__C</th>\n",
       "      <th>COUNTRY_OF_ORDER__C</th>\n",
       "      <th>RECORDTYPE__C</th>\n",
       "      <th>AMOUNT</th>\n",
       "      <th>REGION__C</th>\n",
       "      <th>STAGENAME</th>\n",
       "      <th>BILLING_AMOUNTMISMATCH__C</th>\n",
       "      <th>CLOSE_DATE_MOVED__C</th>\n",
       "    </tr>\n",
       "  </thead>\n",
       "  <tbody>\n",
       "    <tr>\n",
       "      <th>0</th>\n",
       "      <td>0</td>\n",
       "      <td>01s60000000EUnsAAG</td>\n",
       "      <td>1</td>\n",
       "      <td>1</td>\n",
       "      <td>Distributor</td>\n",
       "      <td>Purchase Order</td>\n",
       "      <td>United States</td>\n",
       "      <td>NA Fed Sled [&lt;a href=\"/apex/RecordTypeSelect?e...</td>\n",
       "      <td>106000.0</td>\n",
       "      <td>US</td>\n",
       "      <td>Closed Lost</td>\n",
       "      <td>0</td>\n",
       "      <td>1</td>\n",
       "    </tr>\n",
       "    <tr>\n",
       "      <th>1</th>\n",
       "      <td>0</td>\n",
       "      <td>01s60000000EUnsAAG</td>\n",
       "      <td>1</td>\n",
       "      <td>1</td>\n",
       "      <td>Distributor</td>\n",
       "      <td>Purchase Order</td>\n",
       "      <td>United States</td>\n",
       "      <td>NA Fed Sled [&lt;a href=\"/apex/RecordTypeSelect?e...</td>\n",
       "      <td>300000.0</td>\n",
       "      <td>US</td>\n",
       "      <td>Closed Lost</td>\n",
       "      <td>0</td>\n",
       "      <td>1</td>\n",
       "    </tr>\n",
       "    <tr>\n",
       "      <th>2</th>\n",
       "      <td>10</td>\n",
       "      <td>01s60000000EUnsAAG</td>\n",
       "      <td>1</td>\n",
       "      <td>1</td>\n",
       "      <td>Distributor</td>\n",
       "      <td>Purchase Order</td>\n",
       "      <td>United States</td>\n",
       "      <td>NA Fed Sled [&lt;a href=\"/apex/RecordTypeSelect?e...</td>\n",
       "      <td>NaN</td>\n",
       "      <td>US</td>\n",
       "      <td>Closed Lost</td>\n",
       "      <td>0</td>\n",
       "      <td>1</td>\n",
       "    </tr>\n",
       "    <tr>\n",
       "      <th>3</th>\n",
       "      <td>1</td>\n",
       "      <td>01s60000000EUnsAAG</td>\n",
       "      <td>1</td>\n",
       "      <td>1</td>\n",
       "      <td>Distributor</td>\n",
       "      <td>Purchase Order</td>\n",
       "      <td>Japan</td>\n",
       "      <td>Renewal [&lt;a href=\"/apex/RecordTypeSelect?ent=O...</td>\n",
       "      <td>70590.0</td>\n",
       "      <td>Japan</td>\n",
       "      <td>Closed Lost</td>\n",
       "      <td>0</td>\n",
       "      <td>0</td>\n",
       "    </tr>\n",
       "    <tr>\n",
       "      <th>4</th>\n",
       "      <td>0</td>\n",
       "      <td>01s60000000EUnsAAG</td>\n",
       "      <td>1</td>\n",
       "      <td>1</td>\n",
       "      <td>Direct End Customer</td>\n",
       "      <td>Purchase Order</td>\n",
       "      <td>Netherlands</td>\n",
       "      <td>EMEA Sales Opportunity [&lt;a href=\"/apex/RecordT...</td>\n",
       "      <td>141439.6</td>\n",
       "      <td>NWE</td>\n",
       "      <td>Closed Lost</td>\n",
       "      <td>0</td>\n",
       "      <td>1</td>\n",
       "    </tr>\n",
       "  </tbody>\n",
       "</table>\n",
       "</div>"
      ],
      "text/plain": [
       "   OF_EXPIRING_PRODUCTS__C        PRICEBOOK2ID  APTS_ACCOUNT_ELIGIBLE__C  \\\n",
       "0                        0  01s60000000EUnsAAG                         1   \n",
       "1                        0  01s60000000EUnsAAG                         1   \n",
       "2                       10  01s60000000EUnsAAG                         1   \n",
       "3                        1  01s60000000EUnsAAG                         1   \n",
       "4                        0  01s60000000EUnsAAG                         1   \n",
       "\n",
       "   NEXT_STEPS_POPULATED__C FULFILLMENTCHANNEL__C  PAYMENTTYPE__C  \\\n",
       "0                        1           Distributor  Purchase Order   \n",
       "1                        1           Distributor  Purchase Order   \n",
       "2                        1           Distributor  Purchase Order   \n",
       "3                        1           Distributor  Purchase Order   \n",
       "4                        1   Direct End Customer  Purchase Order   \n",
       "\n",
       "  COUNTRY_OF_ORDER__C                                      RECORDTYPE__C  \\\n",
       "0       United States  NA Fed Sled [<a href=\"/apex/RecordTypeSelect?e...   \n",
       "1       United States  NA Fed Sled [<a href=\"/apex/RecordTypeSelect?e...   \n",
       "2       United States  NA Fed Sled [<a href=\"/apex/RecordTypeSelect?e...   \n",
       "3               Japan  Renewal [<a href=\"/apex/RecordTypeSelect?ent=O...   \n",
       "4         Netherlands  EMEA Sales Opportunity [<a href=\"/apex/RecordT...   \n",
       "\n",
       "     AMOUNT REGION__C    STAGENAME  BILLING_AMOUNTMISMATCH__C  \\\n",
       "0  106000.0        US  Closed Lost                          0   \n",
       "1  300000.0        US  Closed Lost                          0   \n",
       "2       NaN        US  Closed Lost                          0   \n",
       "3   70590.0     Japan  Closed Lost                          0   \n",
       "4  141439.6       NWE  Closed Lost                          0   \n",
       "\n",
       "   CLOSE_DATE_MOVED__C  \n",
       "0                    1  \n",
       "1                    1  \n",
       "2                    1  \n",
       "3                    0  \n",
       "4                    1  "
      ]
     },
     "execution_count": 29,
     "metadata": {},
     "output_type": "execute_result"
    }
   ],
   "source": [
    "new_df.drop(['DATA_SCIENCE_PROBABILITY_OPTION_1__C'],axis=1,inplace=True)\n",
    "new_df.head()"
   ]
  },
  {
   "cell_type": "code",
   "execution_count": 30,
   "id": "28f7e3d0",
   "metadata": {},
   "outputs": [],
   "source": [
    "lst = list(new_df['RECORDTYPE__C'])"
   ]
  },
  {
   "cell_type": "code",
   "execution_count": 31,
   "id": "7f11e96d",
   "metadata": {},
   "outputs": [
    {
     "data": {
      "text/plain": [
       "'NA Fed Sled '"
      ]
     },
     "execution_count": 31,
     "metadata": {},
     "output_type": "execute_result"
    }
   ],
   "source": [
    "lst[0].split('[')[0]"
   ]
  },
  {
   "cell_type": "code",
   "execution_count": 32,
   "id": "7d379503",
   "metadata": {},
   "outputs": [],
   "source": [
    "new_lst=[]\n",
    "for i in range(len(lst)):\n",
    "    new_lst.append(lst[i].split('[')[0].rstrip(' '))"
   ]
  },
  {
   "cell_type": "code",
   "execution_count": 33,
   "id": "22b34a1a",
   "metadata": {},
   "outputs": [
    {
     "name": "stderr",
     "output_type": "stream",
     "text": [
      "C:\\Users\\DELL\\AppData\\Local\\Temp/ipykernel_8468/2319840564.py:1: SettingWithCopyWarning: \n",
      "A value is trying to be set on a copy of a slice from a DataFrame.\n",
      "Try using .loc[row_indexer,col_indexer] = value instead\n",
      "\n",
      "See the caveats in the documentation: https://pandas.pydata.org/pandas-docs/stable/user_guide/indexing.html#returning-a-view-versus-a-copy\n",
      "  new_df['RECORDTYPE__C'] = new_lst\n"
     ]
    }
   ],
   "source": [
    "new_df['RECORDTYPE__C'] = new_lst"
   ]
  },
  {
   "cell_type": "code",
   "execution_count": 34,
   "id": "00e37e3b",
   "metadata": {},
   "outputs": [
    {
     "name": "stderr",
     "output_type": "stream",
     "text": [
      "c:\\users\\dell\\appdata\\local\\programs\\python\\python39\\lib\\site-packages\\pandas\\core\\frame.py:4901: SettingWithCopyWarning: \n",
      "A value is trying to be set on a copy of a slice from a DataFrame\n",
      "\n",
      "See the caveats in the documentation: https://pandas.pydata.org/pandas-docs/stable/user_guide/indexing.html#returning-a-view-versus-a-copy\n",
      "  return super().drop(\n"
     ]
    }
   ],
   "source": [
    "new_df.drop(['COUNTRY_OF_ORDER__C'],axis=1,inplace=True)"
   ]
  },
  {
   "cell_type": "code",
   "execution_count": 35,
   "id": "fb556bf1",
   "metadata": {},
   "outputs": [
    {
     "data": {
      "text/plain": [
       "US                636\n",
       "MED               132\n",
       "Japan             108\n",
       "GCG                71\n",
       "NWE                70\n",
       "GEMs               63\n",
       "CEMEA              51\n",
       "ANZ                48\n",
       "Canada             44\n",
       "DACH               42\n",
       "India              36\n",
       "CE                 24\n",
       "UKI                21\n",
       "Brazil             18\n",
       "NOLA               13\n",
       "SOLA               11\n",
       "ASEAN              10\n",
       "WEMEA               4\n",
       "Nordics             4\n",
       "Mexico              3\n",
       "CENE                3\n",
       "India/Pakistan      2\n",
       "SAC                 2\n",
       "Germany             2\n",
       "ALPS                1\n",
       "Name: REGION__C, dtype: int64"
      ]
     },
     "execution_count": 35,
     "metadata": {},
     "output_type": "execute_result"
    }
   ],
   "source": [
    "new_df['REGION__C'].value_counts()"
   ]
  },
  {
   "cell_type": "code",
   "execution_count": 36,
   "id": "3318e3d1",
   "metadata": {},
   "outputs": [
    {
     "data": {
      "text/plain": [
       "OF_EXPIRING_PRODUCTS__C        0\n",
       "PRICEBOOK2ID                  57\n",
       "APTS_ACCOUNT_ELIGIBLE__C       0\n",
       "NEXT_STEPS_POPULATED__C        0\n",
       "FULFILLMENTCHANNEL__C          0\n",
       "PAYMENTTYPE__C                45\n",
       "RECORDTYPE__C                  0\n",
       "AMOUNT                        31\n",
       "REGION__C                    581\n",
       "STAGENAME                      0\n",
       "BILLING_AMOUNTMISMATCH__C      0\n",
       "CLOSE_DATE_MOVED__C            0\n",
       "dtype: int64"
      ]
     },
     "execution_count": 36,
     "metadata": {},
     "output_type": "execute_result"
    }
   ],
   "source": [
    "new_df.isnull().sum()"
   ]
  },
  {
   "cell_type": "code",
   "execution_count": 37,
   "id": "4895dc6c",
   "metadata": {},
   "outputs": [
    {
     "data": {
      "text/plain": [
       "OF_EXPIRING_PRODUCTS__C        int64\n",
       "PRICEBOOK2ID                  object\n",
       "APTS_ACCOUNT_ELIGIBLE__C       int32\n",
       "NEXT_STEPS_POPULATED__C        int32\n",
       "FULFILLMENTCHANNEL__C         object\n",
       "PAYMENTTYPE__C                object\n",
       "RECORDTYPE__C                 object\n",
       "AMOUNT                       float64\n",
       "REGION__C                     object\n",
       "STAGENAME                     object\n",
       "BILLING_AMOUNTMISMATCH__C      int32\n",
       "CLOSE_DATE_MOVED__C            int32\n",
       "dtype: object"
      ]
     },
     "execution_count": 37,
     "metadata": {},
     "output_type": "execute_result"
    }
   ],
   "source": [
    "new_df.dtypes"
   ]
  },
  {
   "cell_type": "code",
   "execution_count": 38,
   "id": "4e9507f8",
   "metadata": {},
   "outputs": [],
   "source": [
    "new_df.drop(['PRICEBOOK2ID'],axis=1,inplace=True)"
   ]
  },
  {
   "cell_type": "code",
   "execution_count": 39,
   "id": "80b2ddf2",
   "metadata": {},
   "outputs": [
    {
     "data": {
      "text/plain": [
       "OF_EXPIRING_PRODUCTS__C        int64\n",
       "APTS_ACCOUNT_ELIGIBLE__C       int32\n",
       "NEXT_STEPS_POPULATED__C        int32\n",
       "FULFILLMENTCHANNEL__C         object\n",
       "PAYMENTTYPE__C                object\n",
       "RECORDTYPE__C                 object\n",
       "AMOUNT                       float64\n",
       "REGION__C                     object\n",
       "STAGENAME                     object\n",
       "BILLING_AMOUNTMISMATCH__C      int32\n",
       "CLOSE_DATE_MOVED__C            int32\n",
       "dtype: object"
      ]
     },
     "execution_count": 39,
     "metadata": {},
     "output_type": "execute_result"
    }
   ],
   "source": [
    "new_df.dtypes"
   ]
  },
  {
   "cell_type": "code",
   "execution_count": 40,
   "id": "c649fae4",
   "metadata": {},
   "outputs": [
    {
     "data": {
      "text/plain": [
       "Purchase Order          1060\n",
       "Channel Fulfillment      363\n",
       "Credit Card              180\n",
       "NA Purchase Order        140\n",
       "Pre-Pay                   90\n",
       "EMEA Purchase Order       75\n",
       "APAC Purchase Order       32\n",
       "LATAM Purchase Order      15\n",
       "Name: PAYMENTTYPE__C, dtype: int64"
      ]
     },
     "execution_count": 40,
     "metadata": {},
     "output_type": "execute_result"
    }
   ],
   "source": [
    "new_df.PAYMENTTYPE__C.value_counts()"
   ]
  },
  {
   "cell_type": "code",
   "execution_count": 41,
   "id": "26053c13",
   "metadata": {},
   "outputs": [
    {
     "name": "stderr",
     "output_type": "stream",
     "text": [
      "c:\\users\\dell\\appdata\\local\\programs\\python\\python39\\lib\\site-packages\\pandas\\core\\generic.py:6392: SettingWithCopyWarning: \n",
      "A value is trying to be set on a copy of a slice from a DataFrame\n",
      "\n",
      "See the caveats in the documentation: https://pandas.pydata.org/pandas-docs/stable/user_guide/indexing.html#returning-a-view-versus-a-copy\n",
      "  return self._update_inplace(result)\n"
     ]
    }
   ],
   "source": [
    "new_df['PAYMENTTYPE__C'].fillna(new_df.PAYMENTTYPE__C.mode()[0], inplace=True)"
   ]
  },
  {
   "cell_type": "code",
   "execution_count": 42,
   "id": "b7abaf61",
   "metadata": {},
   "outputs": [],
   "source": [
    "new_df['REGION__C'].fillna(new_df.REGION__C.mode()[0], inplace=True)"
   ]
  },
  {
   "cell_type": "code",
   "execution_count": 43,
   "id": "90ba54a5",
   "metadata": {},
   "outputs": [],
   "source": [
    "new_df['AMOUNT'].fillna(new_df.AMOUNT.mean(), inplace=True)"
   ]
  },
  {
   "cell_type": "code",
   "execution_count": 44,
   "id": "748f4cd0",
   "metadata": {},
   "outputs": [
    {
     "data": {
      "text/plain": [
       "OF_EXPIRING_PRODUCTS__C      0\n",
       "APTS_ACCOUNT_ELIGIBLE__C     0\n",
       "NEXT_STEPS_POPULATED__C      0\n",
       "FULFILLMENTCHANNEL__C        0\n",
       "PAYMENTTYPE__C               0\n",
       "RECORDTYPE__C                0\n",
       "AMOUNT                       0\n",
       "REGION__C                    0\n",
       "STAGENAME                    0\n",
       "BILLING_AMOUNTMISMATCH__C    0\n",
       "CLOSE_DATE_MOVED__C          0\n",
       "dtype: int64"
      ]
     },
     "execution_count": 44,
     "metadata": {},
     "output_type": "execute_result"
    }
   ],
   "source": [
    "new_df.isnull().sum()"
   ]
  },
  {
   "cell_type": "code",
   "execution_count": 45,
   "id": "b69da3eb",
   "metadata": {},
   "outputs": [
    {
     "data": {
      "text/plain": [
       "OF_EXPIRING_PRODUCTS__C        int64\n",
       "APTS_ACCOUNT_ELIGIBLE__C       int32\n",
       "NEXT_STEPS_POPULATED__C        int32\n",
       "FULFILLMENTCHANNEL__C         object\n",
       "PAYMENTTYPE__C                object\n",
       "RECORDTYPE__C                 object\n",
       "AMOUNT                       float64\n",
       "REGION__C                     object\n",
       "STAGENAME                     object\n",
       "BILLING_AMOUNTMISMATCH__C      int32\n",
       "CLOSE_DATE_MOVED__C            int32\n",
       "dtype: object"
      ]
     },
     "execution_count": 45,
     "metadata": {},
     "output_type": "execute_result"
    }
   ],
   "source": [
    "new_df.dtypes"
   ]
  },
  {
   "cell_type": "code",
   "execution_count": 46,
   "id": "7c629928",
   "metadata": {},
   "outputs": [
    {
     "data": {
      "text/plain": [
       "Direct - End Customer                     610\n",
       "Distributor                               418\n",
       "Indirect - VAR/VAD                        273\n",
       "Direct End Customer                       167\n",
       "Indirect – Webstore                        87\n",
       "Direct – OEM                               79\n",
       "Direct - DLT                               73\n",
       "Webstore                                   67\n",
       "OEM                                        57\n",
       "Direct Reseller                            53\n",
       "Indirect – OEM Preload                     52\n",
       "Cloud Service Provider                     20\n",
       "Direct - VAR/VAD                           19\n",
       "Direct - Carahsoft                         14\n",
       "Direct - GTSI                               9\n",
       "Indirect - Internal Commissions Credit      2\n",
       "Name: FULFILLMENTCHANNEL__C, dtype: int64"
      ]
     },
     "execution_count": 46,
     "metadata": {},
     "output_type": "execute_result"
    }
   ],
   "source": [
    "new_df.FULFILLMENTCHANNEL__C.value_counts()"
   ]
  },
  {
   "cell_type": "code",
   "execution_count": 47,
   "id": "a8b20536",
   "metadata": {},
   "outputs": [
    {
     "data": {
      "text/plain": [
       "0    1.060000e+05\n",
       "1    3.000000e+05\n",
       "2    1.310819e+06\n",
       "3    7.059000e+04\n",
       "4    1.414396e+05\n",
       "Name: AMOUNT, dtype: float64"
      ]
     },
     "execution_count": 47,
     "metadata": {},
     "output_type": "execute_result"
    }
   ],
   "source": [
    "new_df.AMOUNT.head()"
   ]
  },
  {
   "cell_type": "code",
   "execution_count": 48,
   "id": "1b47c3a7",
   "metadata": {},
   "outputs": [
    {
     "data": {
      "text/plain": [
       "Purchase Order          1105\n",
       "Channel Fulfillment      363\n",
       "Credit Card              180\n",
       "NA Purchase Order        140\n",
       "Pre-Pay                   90\n",
       "EMEA Purchase Order       75\n",
       "APAC Purchase Order       32\n",
       "LATAM Purchase Order      15\n",
       "Name: PAYMENTTYPE__C, dtype: int64"
      ]
     },
     "execution_count": 48,
     "metadata": {},
     "output_type": "execute_result"
    }
   ],
   "source": [
    "new_df.PAYMENTTYPE__C.value_counts()"
   ]
  },
  {
   "cell_type": "code",
   "execution_count": 49,
   "id": "55f6a1df",
   "metadata": {},
   "outputs": [
    {
     "data": {
      "text/plain": [
       "NA Sales Opportunity        704\n",
       "Renewal                     545\n",
       "APAC Sales Opportunity      430\n",
       "EMEA Sales Opportunity      227\n",
       "LATAM Sales Opportunity      31\n",
       "NA Fed Sled                  29\n",
       "Overlay Credit               19\n",
       "NA Canada Sales               9\n",
       "Zero Value Opportunity        4\n",
       "Strategic Accounts Sales      2\n",
       "Name: RECORDTYPE__C, dtype: int64"
      ]
     },
     "execution_count": 49,
     "metadata": {},
     "output_type": "execute_result"
    }
   ],
   "source": [
    "new_df.RECORDTYPE__C.value_counts()"
   ]
  },
  {
   "cell_type": "code",
   "execution_count": 50,
   "id": "2c966559",
   "metadata": {},
   "outputs": [
    {
     "data": {
      "text/plain": [
       "US                1217\n",
       "MED                132\n",
       "Japan              108\n",
       "GCG                 71\n",
       "NWE                 70\n",
       "GEMs                63\n",
       "CEMEA               51\n",
       "ANZ                 48\n",
       "Canada              44\n",
       "DACH                42\n",
       "India               36\n",
       "CE                  24\n",
       "UKI                 21\n",
       "Brazil              18\n",
       "NOLA                13\n",
       "SOLA                11\n",
       "ASEAN               10\n",
       "WEMEA                4\n",
       "Nordics              4\n",
       "Mexico               3\n",
       "CENE                 3\n",
       "India/Pakistan       2\n",
       "SAC                  2\n",
       "Germany              2\n",
       "ALPS                 1\n",
       "Name: REGION__C, dtype: int64"
      ]
     },
     "execution_count": 50,
     "metadata": {},
     "output_type": "execute_result"
    }
   ],
   "source": [
    "new_df.REGION__C.value_counts()"
   ]
  },
  {
   "cell_type": "code",
   "execution_count": 51,
   "id": "a55d4f27",
   "metadata": {},
   "outputs": [
    {
     "data": {
      "text/plain": [
       "array(['Closed Lost', 'Closed Won'], dtype=object)"
      ]
     },
     "execution_count": 51,
     "metadata": {},
     "output_type": "execute_result"
    }
   ],
   "source": [
    "new_df.STAGENAME.unique()"
   ]
  },
  {
   "cell_type": "code",
   "execution_count": 52,
   "id": "e9be2ca3",
   "metadata": {},
   "outputs": [
    {
     "name": "stderr",
     "output_type": "stream",
     "text": [
      "c:\\users\\dell\\appdata\\local\\programs\\python\\python39\\lib\\site-packages\\pandas\\core\\generic.py:5516: SettingWithCopyWarning: \n",
      "A value is trying to be set on a copy of a slice from a DataFrame.\n",
      "Try using .loc[row_indexer,col_indexer] = value instead\n",
      "\n",
      "See the caveats in the documentation: https://pandas.pydata.org/pandas-docs/stable/user_guide/indexing.html#returning-a-view-versus-a-copy\n",
      "  self[name] = value\n"
     ]
    }
   ],
   "source": [
    "new_df.STAGENAME = new_df.STAGENAME.map({'Closed Lost':0,'Closed Won':1})"
   ]
  },
  {
   "cell_type": "code",
   "execution_count": 53,
   "id": "4d3e10dd",
   "metadata": {},
   "outputs": [
    {
     "data": {
      "text/plain": [
       "array([0, 1], dtype=int64)"
      ]
     },
     "execution_count": 53,
     "metadata": {},
     "output_type": "execute_result"
    }
   ],
   "source": [
    "new_df.STAGENAME.unique()"
   ]
  },
  {
   "cell_type": "code",
   "execution_count": 54,
   "id": "f91eb620",
   "metadata": {},
   "outputs": [],
   "source": [
    "dummy_FULFILLMENTCHANNEL__C = pd.get_dummies(data=new_df.FULFILLMENTCHANNEL__C,drop_first=True)\n",
    "df = pd.concat([new_df,dummy_FULFILLMENTCHANNEL__C],axis='columns')"
   ]
  },
  {
   "cell_type": "code",
   "execution_count": 55,
   "id": "ee556a72",
   "metadata": {},
   "outputs": [
    {
     "data": {
      "text/html": [
       "<div>\n",
       "<style scoped>\n",
       "    .dataframe tbody tr th:only-of-type {\n",
       "        vertical-align: middle;\n",
       "    }\n",
       "\n",
       "    .dataframe tbody tr th {\n",
       "        vertical-align: top;\n",
       "    }\n",
       "\n",
       "    .dataframe thead th {\n",
       "        text-align: right;\n",
       "    }\n",
       "</style>\n",
       "<table border=\"1\" class=\"dataframe\">\n",
       "  <thead>\n",
       "    <tr style=\"text-align: right;\">\n",
       "      <th></th>\n",
       "      <th>OF_EXPIRING_PRODUCTS__C</th>\n",
       "      <th>APTS_ACCOUNT_ELIGIBLE__C</th>\n",
       "      <th>NEXT_STEPS_POPULATED__C</th>\n",
       "      <th>FULFILLMENTCHANNEL__C</th>\n",
       "      <th>PAYMENTTYPE__C</th>\n",
       "      <th>RECORDTYPE__C</th>\n",
       "      <th>AMOUNT</th>\n",
       "      <th>REGION__C</th>\n",
       "      <th>STAGENAME</th>\n",
       "      <th>BILLING_AMOUNTMISMATCH__C</th>\n",
       "      <th>...</th>\n",
       "      <th>Direct End Customer</th>\n",
       "      <th>Direct Reseller</th>\n",
       "      <th>Direct – OEM</th>\n",
       "      <th>Distributor</th>\n",
       "      <th>Indirect - Internal Commissions Credit</th>\n",
       "      <th>Indirect - VAR/VAD</th>\n",
       "      <th>Indirect – OEM Preload</th>\n",
       "      <th>Indirect – Webstore</th>\n",
       "      <th>OEM</th>\n",
       "      <th>Webstore</th>\n",
       "    </tr>\n",
       "  </thead>\n",
       "  <tbody>\n",
       "    <tr>\n",
       "      <th>0</th>\n",
       "      <td>0</td>\n",
       "      <td>1</td>\n",
       "      <td>1</td>\n",
       "      <td>Distributor</td>\n",
       "      <td>Purchase Order</td>\n",
       "      <td>NA Fed Sled</td>\n",
       "      <td>1.060000e+05</td>\n",
       "      <td>US</td>\n",
       "      <td>0</td>\n",
       "      <td>0</td>\n",
       "      <td>...</td>\n",
       "      <td>0</td>\n",
       "      <td>0</td>\n",
       "      <td>0</td>\n",
       "      <td>1</td>\n",
       "      <td>0</td>\n",
       "      <td>0</td>\n",
       "      <td>0</td>\n",
       "      <td>0</td>\n",
       "      <td>0</td>\n",
       "      <td>0</td>\n",
       "    </tr>\n",
       "    <tr>\n",
       "      <th>1</th>\n",
       "      <td>0</td>\n",
       "      <td>1</td>\n",
       "      <td>1</td>\n",
       "      <td>Distributor</td>\n",
       "      <td>Purchase Order</td>\n",
       "      <td>NA Fed Sled</td>\n",
       "      <td>3.000000e+05</td>\n",
       "      <td>US</td>\n",
       "      <td>0</td>\n",
       "      <td>0</td>\n",
       "      <td>...</td>\n",
       "      <td>0</td>\n",
       "      <td>0</td>\n",
       "      <td>0</td>\n",
       "      <td>1</td>\n",
       "      <td>0</td>\n",
       "      <td>0</td>\n",
       "      <td>0</td>\n",
       "      <td>0</td>\n",
       "      <td>0</td>\n",
       "      <td>0</td>\n",
       "    </tr>\n",
       "    <tr>\n",
       "      <th>2</th>\n",
       "      <td>10</td>\n",
       "      <td>1</td>\n",
       "      <td>1</td>\n",
       "      <td>Distributor</td>\n",
       "      <td>Purchase Order</td>\n",
       "      <td>NA Fed Sled</td>\n",
       "      <td>1.310819e+06</td>\n",
       "      <td>US</td>\n",
       "      <td>0</td>\n",
       "      <td>0</td>\n",
       "      <td>...</td>\n",
       "      <td>0</td>\n",
       "      <td>0</td>\n",
       "      <td>0</td>\n",
       "      <td>1</td>\n",
       "      <td>0</td>\n",
       "      <td>0</td>\n",
       "      <td>0</td>\n",
       "      <td>0</td>\n",
       "      <td>0</td>\n",
       "      <td>0</td>\n",
       "    </tr>\n",
       "    <tr>\n",
       "      <th>3</th>\n",
       "      <td>1</td>\n",
       "      <td>1</td>\n",
       "      <td>1</td>\n",
       "      <td>Distributor</td>\n",
       "      <td>Purchase Order</td>\n",
       "      <td>Renewal</td>\n",
       "      <td>7.059000e+04</td>\n",
       "      <td>Japan</td>\n",
       "      <td>0</td>\n",
       "      <td>0</td>\n",
       "      <td>...</td>\n",
       "      <td>0</td>\n",
       "      <td>0</td>\n",
       "      <td>0</td>\n",
       "      <td>1</td>\n",
       "      <td>0</td>\n",
       "      <td>0</td>\n",
       "      <td>0</td>\n",
       "      <td>0</td>\n",
       "      <td>0</td>\n",
       "      <td>0</td>\n",
       "    </tr>\n",
       "    <tr>\n",
       "      <th>4</th>\n",
       "      <td>0</td>\n",
       "      <td>1</td>\n",
       "      <td>1</td>\n",
       "      <td>Direct End Customer</td>\n",
       "      <td>Purchase Order</td>\n",
       "      <td>EMEA Sales Opportunity</td>\n",
       "      <td>1.414396e+05</td>\n",
       "      <td>NWE</td>\n",
       "      <td>0</td>\n",
       "      <td>0</td>\n",
       "      <td>...</td>\n",
       "      <td>1</td>\n",
       "      <td>0</td>\n",
       "      <td>0</td>\n",
       "      <td>0</td>\n",
       "      <td>0</td>\n",
       "      <td>0</td>\n",
       "      <td>0</td>\n",
       "      <td>0</td>\n",
       "      <td>0</td>\n",
       "      <td>0</td>\n",
       "    </tr>\n",
       "  </tbody>\n",
       "</table>\n",
       "<p>5 rows × 26 columns</p>\n",
       "</div>"
      ],
      "text/plain": [
       "   OF_EXPIRING_PRODUCTS__C  APTS_ACCOUNT_ELIGIBLE__C  NEXT_STEPS_POPULATED__C  \\\n",
       "0                        0                         1                        1   \n",
       "1                        0                         1                        1   \n",
       "2                       10                         1                        1   \n",
       "3                        1                         1                        1   \n",
       "4                        0                         1                        1   \n",
       "\n",
       "  FULFILLMENTCHANNEL__C  PAYMENTTYPE__C           RECORDTYPE__C        AMOUNT  \\\n",
       "0           Distributor  Purchase Order             NA Fed Sled  1.060000e+05   \n",
       "1           Distributor  Purchase Order             NA Fed Sled  3.000000e+05   \n",
       "2           Distributor  Purchase Order             NA Fed Sled  1.310819e+06   \n",
       "3           Distributor  Purchase Order                 Renewal  7.059000e+04   \n",
       "4   Direct End Customer  Purchase Order  EMEA Sales Opportunity  1.414396e+05   \n",
       "\n",
       "  REGION__C  STAGENAME  BILLING_AMOUNTMISMATCH__C  ...  Direct End Customer  \\\n",
       "0        US          0                          0  ...                    0   \n",
       "1        US          0                          0  ...                    0   \n",
       "2        US          0                          0  ...                    0   \n",
       "3     Japan          0                          0  ...                    0   \n",
       "4       NWE          0                          0  ...                    1   \n",
       "\n",
       "   Direct Reseller  Direct – OEM  Distributor  \\\n",
       "0                0             0            1   \n",
       "1                0             0            1   \n",
       "2                0             0            1   \n",
       "3                0             0            1   \n",
       "4                0             0            0   \n",
       "\n",
       "   Indirect - Internal Commissions Credit  Indirect - VAR/VAD  \\\n",
       "0                                       0                   0   \n",
       "1                                       0                   0   \n",
       "2                                       0                   0   \n",
       "3                                       0                   0   \n",
       "4                                       0                   0   \n",
       "\n",
       "   Indirect – OEM Preload  Indirect – Webstore  OEM  Webstore  \n",
       "0                       0                    0    0         0  \n",
       "1                       0                    0    0         0  \n",
       "2                       0                    0    0         0  \n",
       "3                       0                    0    0         0  \n",
       "4                       0                    0    0         0  \n",
       "\n",
       "[5 rows x 26 columns]"
      ]
     },
     "execution_count": 55,
     "metadata": {},
     "output_type": "execute_result"
    }
   ],
   "source": [
    "df.head()"
   ]
  },
  {
   "cell_type": "code",
   "execution_count": 56,
   "id": "f12bb088",
   "metadata": {},
   "outputs": [],
   "source": [
    "df.drop(['FULFILLMENTCHANNEL__C'],axis=1,inplace=True)"
   ]
  },
  {
   "cell_type": "code",
   "execution_count": 57,
   "id": "94242597",
   "metadata": {},
   "outputs": [],
   "source": [
    "dummy_PAYMENTTYPE__C = pd.get_dummies(data=df.PAYMENTTYPE__C,drop_first=True)\n",
    "df = pd.concat([df,dummy_PAYMENTTYPE__C],axis='columns')"
   ]
  },
  {
   "cell_type": "code",
   "execution_count": 58,
   "id": "eb4091a5",
   "metadata": {},
   "outputs": [
    {
     "data": {
      "text/plain": [
       "Index(['OF_EXPIRING_PRODUCTS__C', 'APTS_ACCOUNT_ELIGIBLE__C',\n",
       "       'NEXT_STEPS_POPULATED__C', 'PAYMENTTYPE__C', 'RECORDTYPE__C', 'AMOUNT',\n",
       "       'REGION__C', 'STAGENAME', 'BILLING_AMOUNTMISMATCH__C',\n",
       "       'CLOSE_DATE_MOVED__C', 'Direct - Carahsoft', 'Direct - DLT',\n",
       "       'Direct - End Customer', 'Direct - GTSI', 'Direct - VAR/VAD',\n",
       "       'Direct End Customer', 'Direct Reseller', 'Direct – OEM', 'Distributor',\n",
       "       'Indirect - Internal Commissions Credit', 'Indirect - VAR/VAD',\n",
       "       'Indirect – OEM Preload', 'Indirect – Webstore', 'OEM', 'Webstore',\n",
       "       'Channel Fulfillment', 'Credit Card', 'EMEA Purchase Order',\n",
       "       'LATAM Purchase Order', 'NA Purchase Order', 'Pre-Pay',\n",
       "       'Purchase Order'],\n",
       "      dtype='object')"
      ]
     },
     "execution_count": 58,
     "metadata": {},
     "output_type": "execute_result"
    }
   ],
   "source": [
    "df.columns"
   ]
  },
  {
   "cell_type": "code",
   "execution_count": 59,
   "id": "7ce17dfa",
   "metadata": {},
   "outputs": [
    {
     "data": {
      "text/plain": [
       "OF_EXPIRING_PRODUCTS__C                     int64\n",
       "APTS_ACCOUNT_ELIGIBLE__C                    int32\n",
       "NEXT_STEPS_POPULATED__C                     int32\n",
       "PAYMENTTYPE__C                             object\n",
       "RECORDTYPE__C                              object\n",
       "AMOUNT                                    float64\n",
       "REGION__C                                  object\n",
       "STAGENAME                                   int64\n",
       "BILLING_AMOUNTMISMATCH__C                   int32\n",
       "CLOSE_DATE_MOVED__C                         int32\n",
       "Direct - Carahsoft                          uint8\n",
       "Direct - DLT                                uint8\n",
       "Direct - End Customer                       uint8\n",
       "Direct - GTSI                               uint8\n",
       "Direct - VAR/VAD                            uint8\n",
       "Direct End Customer                         uint8\n",
       "Direct Reseller                             uint8\n",
       "Direct – OEM                                uint8\n",
       "Distributor                                 uint8\n",
       "Indirect - Internal Commissions Credit      uint8\n",
       "Indirect - VAR/VAD                          uint8\n",
       "Indirect – OEM Preload                      uint8\n",
       "Indirect – Webstore                         uint8\n",
       "OEM                                         uint8\n",
       "Webstore                                    uint8\n",
       "Channel Fulfillment                         uint8\n",
       "Credit Card                                 uint8\n",
       "EMEA Purchase Order                         uint8\n",
       "LATAM Purchase Order                        uint8\n",
       "NA Purchase Order                           uint8\n",
       "Pre-Pay                                     uint8\n",
       "Purchase Order                              uint8\n",
       "dtype: object"
      ]
     },
     "execution_count": 59,
     "metadata": {},
     "output_type": "execute_result"
    }
   ],
   "source": [
    "df.dtypes"
   ]
  },
  {
   "cell_type": "code",
   "execution_count": 60,
   "id": "95284be3",
   "metadata": {},
   "outputs": [],
   "source": [
    "df.drop(['PAYMENTTYPE__C'],axis=1,inplace=True)"
   ]
  },
  {
   "cell_type": "code",
   "execution_count": 61,
   "id": "75c6f61f",
   "metadata": {},
   "outputs": [
    {
     "data": {
      "text/plain": [
       "NA Sales Opportunity        704\n",
       "Renewal                     545\n",
       "APAC Sales Opportunity      430\n",
       "EMEA Sales Opportunity      227\n",
       "LATAM Sales Opportunity      31\n",
       "NA Fed Sled                  29\n",
       "Overlay Credit               19\n",
       "NA Canada Sales               9\n",
       "Zero Value Opportunity        4\n",
       "Strategic Accounts Sales      2\n",
       "Name: RECORDTYPE__C, dtype: int64"
      ]
     },
     "execution_count": 61,
     "metadata": {},
     "output_type": "execute_result"
    }
   ],
   "source": [
    "df.RECORDTYPE__C.value_counts()"
   ]
  },
  {
   "cell_type": "code",
   "execution_count": 62,
   "id": "c3d08364",
   "metadata": {},
   "outputs": [],
   "source": [
    "dummy_RECORDTYPE__C = pd.get_dummies(data=df.RECORDTYPE__C,drop_first=True)\n",
    "df = pd.concat([df,dummy_RECORDTYPE__C],axis='columns')\n",
    "df.drop(['RECORDTYPE__C'],axis=1,inplace=True)"
   ]
  },
  {
   "cell_type": "code",
   "execution_count": 63,
   "id": "11c399e1",
   "metadata": {},
   "outputs": [],
   "source": [
    "dummy_REGION__C = pd.get_dummies(data=df.REGION__C,drop_first=True)\n",
    "df = pd.concat([df,dummy_REGION__C],axis='columns')\n",
    "df.drop(['REGION__C'],axis=1,inplace=True)"
   ]
  },
  {
   "cell_type": "code",
   "execution_count": 64,
   "id": "4e3576cd",
   "metadata": {},
   "outputs": [
    {
     "data": {
      "text/plain": [
       "Index(['OF_EXPIRING_PRODUCTS__C', 'APTS_ACCOUNT_ELIGIBLE__C',\n",
       "       'NEXT_STEPS_POPULATED__C', 'AMOUNT', 'STAGENAME',\n",
       "       'BILLING_AMOUNTMISMATCH__C', 'CLOSE_DATE_MOVED__C',\n",
       "       'Direct - Carahsoft', 'Direct - DLT', 'Direct - End Customer',\n",
       "       'Direct - GTSI', 'Direct - VAR/VAD', 'Direct End Customer',\n",
       "       'Direct Reseller', 'Direct – OEM', 'Distributor',\n",
       "       'Indirect - Internal Commissions Credit', 'Indirect - VAR/VAD',\n",
       "       'Indirect – OEM Preload', 'Indirect – Webstore', 'OEM', 'Webstore',\n",
       "       'Channel Fulfillment', 'Credit Card', 'EMEA Purchase Order',\n",
       "       'LATAM Purchase Order', 'NA Purchase Order', 'Pre-Pay',\n",
       "       'Purchase Order', 'EMEA Sales Opportunity', 'LATAM Sales Opportunity',\n",
       "       'NA Canada Sales', 'NA Fed Sled', 'NA Sales Opportunity',\n",
       "       'Overlay Credit', 'Renewal', 'Strategic Accounts Sales',\n",
       "       'Zero Value Opportunity', 'ANZ', 'ASEAN', 'Brazil', 'CE', 'CEMEA',\n",
       "       'CENE', 'Canada', 'DACH', 'GCG', 'GEMs', 'Germany', 'India',\n",
       "       'India/Pakistan', 'Japan', 'MED', 'Mexico', 'NOLA', 'NWE', 'Nordics',\n",
       "       'SAC', 'SOLA', 'UKI', 'US', 'WEMEA'],\n",
       "      dtype='object')"
      ]
     },
     "execution_count": 64,
     "metadata": {},
     "output_type": "execute_result"
    }
   ],
   "source": [
    "df.columns"
   ]
  },
  {
   "cell_type": "code",
   "execution_count": 65,
   "id": "6b3466f9",
   "metadata": {},
   "outputs": [
    {
     "data": {
      "text/plain": [
       "OF_EXPIRING_PRODUCTS__C       int64\n",
       "APTS_ACCOUNT_ELIGIBLE__C      int32\n",
       "NEXT_STEPS_POPULATED__C       int32\n",
       "AMOUNT                      float64\n",
       "STAGENAME                     int64\n",
       "                             ...   \n",
       "SAC                           uint8\n",
       "SOLA                          uint8\n",
       "UKI                           uint8\n",
       "US                            uint8\n",
       "WEMEA                         uint8\n",
       "Length: 62, dtype: object"
      ]
     },
     "execution_count": 65,
     "metadata": {},
     "output_type": "execute_result"
    }
   ],
   "source": [
    "df.dtypes"
   ]
  },
  {
   "cell_type": "code",
   "execution_count": 66,
   "id": "910f47b1",
   "metadata": {},
   "outputs": [
    {
     "data": {
      "text/html": [
       "<div>\n",
       "<style scoped>\n",
       "    .dataframe tbody tr th:only-of-type {\n",
       "        vertical-align: middle;\n",
       "    }\n",
       "\n",
       "    .dataframe tbody tr th {\n",
       "        vertical-align: top;\n",
       "    }\n",
       "\n",
       "    .dataframe thead th {\n",
       "        text-align: right;\n",
       "    }\n",
       "</style>\n",
       "<table border=\"1\" class=\"dataframe\">\n",
       "  <thead>\n",
       "    <tr style=\"text-align: right;\">\n",
       "      <th></th>\n",
       "      <th>OF_EXPIRING_PRODUCTS__C</th>\n",
       "      <th>APTS_ACCOUNT_ELIGIBLE__C</th>\n",
       "      <th>NEXT_STEPS_POPULATED__C</th>\n",
       "      <th>AMOUNT</th>\n",
       "      <th>STAGENAME</th>\n",
       "      <th>BILLING_AMOUNTMISMATCH__C</th>\n",
       "      <th>CLOSE_DATE_MOVED__C</th>\n",
       "      <th>Direct - Carahsoft</th>\n",
       "      <th>Direct - DLT</th>\n",
       "      <th>Direct - End Customer</th>\n",
       "      <th>...</th>\n",
       "      <th>MED</th>\n",
       "      <th>Mexico</th>\n",
       "      <th>NOLA</th>\n",
       "      <th>NWE</th>\n",
       "      <th>Nordics</th>\n",
       "      <th>SAC</th>\n",
       "      <th>SOLA</th>\n",
       "      <th>UKI</th>\n",
       "      <th>US</th>\n",
       "      <th>WEMEA</th>\n",
       "    </tr>\n",
       "  </thead>\n",
       "  <tbody>\n",
       "    <tr>\n",
       "      <th>0</th>\n",
       "      <td>0</td>\n",
       "      <td>1</td>\n",
       "      <td>1</td>\n",
       "      <td>1.060000e+05</td>\n",
       "      <td>0</td>\n",
       "      <td>0</td>\n",
       "      <td>1</td>\n",
       "      <td>0</td>\n",
       "      <td>0</td>\n",
       "      <td>0</td>\n",
       "      <td>...</td>\n",
       "      <td>0</td>\n",
       "      <td>0</td>\n",
       "      <td>0</td>\n",
       "      <td>0</td>\n",
       "      <td>0</td>\n",
       "      <td>0</td>\n",
       "      <td>0</td>\n",
       "      <td>0</td>\n",
       "      <td>1</td>\n",
       "      <td>0</td>\n",
       "    </tr>\n",
       "    <tr>\n",
       "      <th>1</th>\n",
       "      <td>0</td>\n",
       "      <td>1</td>\n",
       "      <td>1</td>\n",
       "      <td>3.000000e+05</td>\n",
       "      <td>0</td>\n",
       "      <td>0</td>\n",
       "      <td>1</td>\n",
       "      <td>0</td>\n",
       "      <td>0</td>\n",
       "      <td>0</td>\n",
       "      <td>...</td>\n",
       "      <td>0</td>\n",
       "      <td>0</td>\n",
       "      <td>0</td>\n",
       "      <td>0</td>\n",
       "      <td>0</td>\n",
       "      <td>0</td>\n",
       "      <td>0</td>\n",
       "      <td>0</td>\n",
       "      <td>1</td>\n",
       "      <td>0</td>\n",
       "    </tr>\n",
       "    <tr>\n",
       "      <th>2</th>\n",
       "      <td>10</td>\n",
       "      <td>1</td>\n",
       "      <td>1</td>\n",
       "      <td>1.310819e+06</td>\n",
       "      <td>0</td>\n",
       "      <td>0</td>\n",
       "      <td>1</td>\n",
       "      <td>0</td>\n",
       "      <td>0</td>\n",
       "      <td>0</td>\n",
       "      <td>...</td>\n",
       "      <td>0</td>\n",
       "      <td>0</td>\n",
       "      <td>0</td>\n",
       "      <td>0</td>\n",
       "      <td>0</td>\n",
       "      <td>0</td>\n",
       "      <td>0</td>\n",
       "      <td>0</td>\n",
       "      <td>1</td>\n",
       "      <td>0</td>\n",
       "    </tr>\n",
       "    <tr>\n",
       "      <th>3</th>\n",
       "      <td>1</td>\n",
       "      <td>1</td>\n",
       "      <td>1</td>\n",
       "      <td>7.059000e+04</td>\n",
       "      <td>0</td>\n",
       "      <td>0</td>\n",
       "      <td>0</td>\n",
       "      <td>0</td>\n",
       "      <td>0</td>\n",
       "      <td>0</td>\n",
       "      <td>...</td>\n",
       "      <td>0</td>\n",
       "      <td>0</td>\n",
       "      <td>0</td>\n",
       "      <td>0</td>\n",
       "      <td>0</td>\n",
       "      <td>0</td>\n",
       "      <td>0</td>\n",
       "      <td>0</td>\n",
       "      <td>0</td>\n",
       "      <td>0</td>\n",
       "    </tr>\n",
       "    <tr>\n",
       "      <th>4</th>\n",
       "      <td>0</td>\n",
       "      <td>1</td>\n",
       "      <td>1</td>\n",
       "      <td>1.414396e+05</td>\n",
       "      <td>0</td>\n",
       "      <td>0</td>\n",
       "      <td>1</td>\n",
       "      <td>0</td>\n",
       "      <td>0</td>\n",
       "      <td>0</td>\n",
       "      <td>...</td>\n",
       "      <td>0</td>\n",
       "      <td>0</td>\n",
       "      <td>0</td>\n",
       "      <td>1</td>\n",
       "      <td>0</td>\n",
       "      <td>0</td>\n",
       "      <td>0</td>\n",
       "      <td>0</td>\n",
       "      <td>0</td>\n",
       "      <td>0</td>\n",
       "    </tr>\n",
       "  </tbody>\n",
       "</table>\n",
       "<p>5 rows × 62 columns</p>\n",
       "</div>"
      ],
      "text/plain": [
       "   OF_EXPIRING_PRODUCTS__C  APTS_ACCOUNT_ELIGIBLE__C  NEXT_STEPS_POPULATED__C  \\\n",
       "0                        0                         1                        1   \n",
       "1                        0                         1                        1   \n",
       "2                       10                         1                        1   \n",
       "3                        1                         1                        1   \n",
       "4                        0                         1                        1   \n",
       "\n",
       "         AMOUNT  STAGENAME  BILLING_AMOUNTMISMATCH__C  CLOSE_DATE_MOVED__C  \\\n",
       "0  1.060000e+05          0                          0                    1   \n",
       "1  3.000000e+05          0                          0                    1   \n",
       "2  1.310819e+06          0                          0                    1   \n",
       "3  7.059000e+04          0                          0                    0   \n",
       "4  1.414396e+05          0                          0                    1   \n",
       "\n",
       "   Direct - Carahsoft  Direct - DLT  Direct - End Customer  ...  MED  Mexico  \\\n",
       "0                   0             0                      0  ...    0       0   \n",
       "1                   0             0                      0  ...    0       0   \n",
       "2                   0             0                      0  ...    0       0   \n",
       "3                   0             0                      0  ...    0       0   \n",
       "4                   0             0                      0  ...    0       0   \n",
       "\n",
       "   NOLA  NWE  Nordics  SAC  SOLA  UKI  US  WEMEA  \n",
       "0     0    0        0    0     0    0   1      0  \n",
       "1     0    0        0    0     0    0   1      0  \n",
       "2     0    0        0    0     0    0   1      0  \n",
       "3     0    0        0    0     0    0   0      0  \n",
       "4     0    1        0    0     0    0   0      0  \n",
       "\n",
       "[5 rows x 62 columns]"
      ]
     },
     "execution_count": 66,
     "metadata": {},
     "output_type": "execute_result"
    }
   ],
   "source": [
    "df.head()"
   ]
  },
  {
   "cell_type": "code",
   "execution_count": 67,
   "id": "c6542ae9",
   "metadata": {},
   "outputs": [],
   "source": [
    "X = df.drop(['STAGENAME'],axis=1)"
   ]
  },
  {
   "cell_type": "code",
   "execution_count": 68,
   "id": "f902267d",
   "metadata": {},
   "outputs": [],
   "source": [
    "y = df.STAGENAME"
   ]
  },
  {
   "cell_type": "code",
   "execution_count": 69,
   "id": "7652d524",
   "metadata": {},
   "outputs": [
    {
     "data": {
      "text/plain": [
       "0    0\n",
       "1    0\n",
       "2    0\n",
       "3    0\n",
       "4    0\n",
       "Name: STAGENAME, dtype: int64"
      ]
     },
     "execution_count": 69,
     "metadata": {},
     "output_type": "execute_result"
    }
   ],
   "source": [
    "y.head()"
   ]
  },
  {
   "cell_type": "code",
   "execution_count": null,
   "id": "1a220ac1",
   "metadata": {},
   "outputs": [],
   "source": []
  },
  {
   "cell_type": "code",
   "execution_count": 70,
   "id": "9837a0d8",
   "metadata": {},
   "outputs": [],
   "source": [
    "from sklearn.model_selection import train_test_split\n",
    "X_train, X_test, y_train, y_test = train_test_split(X, y, test_size=0.3, random_state=42)"
   ]
  },
  {
   "cell_type": "code",
   "execution_count": 71,
   "id": "df1fe770",
   "metadata": {},
   "outputs": [
    {
     "data": {
      "text/html": [
       "<div>\n",
       "<style scoped>\n",
       "    .dataframe tbody tr th:only-of-type {\n",
       "        vertical-align: middle;\n",
       "    }\n",
       "\n",
       "    .dataframe tbody tr th {\n",
       "        vertical-align: top;\n",
       "    }\n",
       "\n",
       "    .dataframe thead th {\n",
       "        text-align: right;\n",
       "    }\n",
       "</style>\n",
       "<table border=\"1\" class=\"dataframe\">\n",
       "  <thead>\n",
       "    <tr style=\"text-align: right;\">\n",
       "      <th></th>\n",
       "      <th>OF_EXPIRING_PRODUCTS__C</th>\n",
       "      <th>APTS_ACCOUNT_ELIGIBLE__C</th>\n",
       "      <th>NEXT_STEPS_POPULATED__C</th>\n",
       "      <th>AMOUNT</th>\n",
       "      <th>BILLING_AMOUNTMISMATCH__C</th>\n",
       "      <th>CLOSE_DATE_MOVED__C</th>\n",
       "      <th>Direct - Carahsoft</th>\n",
       "      <th>Direct - DLT</th>\n",
       "      <th>Direct - End Customer</th>\n",
       "      <th>Direct - GTSI</th>\n",
       "      <th>...</th>\n",
       "      <th>MED</th>\n",
       "      <th>Mexico</th>\n",
       "      <th>NOLA</th>\n",
       "      <th>NWE</th>\n",
       "      <th>Nordics</th>\n",
       "      <th>SAC</th>\n",
       "      <th>SOLA</th>\n",
       "      <th>UKI</th>\n",
       "      <th>US</th>\n",
       "      <th>WEMEA</th>\n",
       "    </tr>\n",
       "  </thead>\n",
       "  <tbody>\n",
       "    <tr>\n",
       "      <th>860</th>\n",
       "      <td>0</td>\n",
       "      <td>1</td>\n",
       "      <td>1</td>\n",
       "      <td>1499.00</td>\n",
       "      <td>0</td>\n",
       "      <td>0</td>\n",
       "      <td>0</td>\n",
       "      <td>0</td>\n",
       "      <td>0</td>\n",
       "      <td>0</td>\n",
       "      <td>...</td>\n",
       "      <td>0</td>\n",
       "      <td>0</td>\n",
       "      <td>0</td>\n",
       "      <td>0</td>\n",
       "      <td>0</td>\n",
       "      <td>0</td>\n",
       "      <td>0</td>\n",
       "      <td>0</td>\n",
       "      <td>1</td>\n",
       "      <td>0</td>\n",
       "    </tr>\n",
       "    <tr>\n",
       "      <th>353</th>\n",
       "      <td>0</td>\n",
       "      <td>1</td>\n",
       "      <td>1</td>\n",
       "      <td>25030.00</td>\n",
       "      <td>0</td>\n",
       "      <td>1</td>\n",
       "      <td>0</td>\n",
       "      <td>0</td>\n",
       "      <td>0</td>\n",
       "      <td>0</td>\n",
       "      <td>...</td>\n",
       "      <td>0</td>\n",
       "      <td>0</td>\n",
       "      <td>0</td>\n",
       "      <td>0</td>\n",
       "      <td>0</td>\n",
       "      <td>0</td>\n",
       "      <td>1</td>\n",
       "      <td>0</td>\n",
       "      <td>0</td>\n",
       "      <td>0</td>\n",
       "    </tr>\n",
       "    <tr>\n",
       "      <th>333</th>\n",
       "      <td>0</td>\n",
       "      <td>0</td>\n",
       "      <td>1</td>\n",
       "      <td>667.50</td>\n",
       "      <td>0</td>\n",
       "      <td>0</td>\n",
       "      <td>0</td>\n",
       "      <td>0</td>\n",
       "      <td>1</td>\n",
       "      <td>0</td>\n",
       "      <td>...</td>\n",
       "      <td>0</td>\n",
       "      <td>0</td>\n",
       "      <td>0</td>\n",
       "      <td>0</td>\n",
       "      <td>0</td>\n",
       "      <td>0</td>\n",
       "      <td>0</td>\n",
       "      <td>0</td>\n",
       "      <td>1</td>\n",
       "      <td>0</td>\n",
       "    </tr>\n",
       "    <tr>\n",
       "      <th>905</th>\n",
       "      <td>1</td>\n",
       "      <td>0</td>\n",
       "      <td>1</td>\n",
       "      <td>1600.00</td>\n",
       "      <td>0</td>\n",
       "      <td>0</td>\n",
       "      <td>0</td>\n",
       "      <td>0</td>\n",
       "      <td>1</td>\n",
       "      <td>0</td>\n",
       "      <td>...</td>\n",
       "      <td>0</td>\n",
       "      <td>0</td>\n",
       "      <td>0</td>\n",
       "      <td>0</td>\n",
       "      <td>0</td>\n",
       "      <td>0</td>\n",
       "      <td>0</td>\n",
       "      <td>0</td>\n",
       "      <td>1</td>\n",
       "      <td>0</td>\n",
       "    </tr>\n",
       "    <tr>\n",
       "      <th>289</th>\n",
       "      <td>0</td>\n",
       "      <td>1</td>\n",
       "      <td>1</td>\n",
       "      <td>3658.00</td>\n",
       "      <td>0</td>\n",
       "      <td>0</td>\n",
       "      <td>0</td>\n",
       "      <td>0</td>\n",
       "      <td>0</td>\n",
       "      <td>0</td>\n",
       "      <td>...</td>\n",
       "      <td>0</td>\n",
       "      <td>0</td>\n",
       "      <td>0</td>\n",
       "      <td>0</td>\n",
       "      <td>0</td>\n",
       "      <td>0</td>\n",
       "      <td>0</td>\n",
       "      <td>0</td>\n",
       "      <td>1</td>\n",
       "      <td>0</td>\n",
       "    </tr>\n",
       "    <tr>\n",
       "      <th>...</th>\n",
       "      <td>...</td>\n",
       "      <td>...</td>\n",
       "      <td>...</td>\n",
       "      <td>...</td>\n",
       "      <td>...</td>\n",
       "      <td>...</td>\n",
       "      <td>...</td>\n",
       "      <td>...</td>\n",
       "      <td>...</td>\n",
       "      <td>...</td>\n",
       "      <td>...</td>\n",
       "      <td>...</td>\n",
       "      <td>...</td>\n",
       "      <td>...</td>\n",
       "      <td>...</td>\n",
       "      <td>...</td>\n",
       "      <td>...</td>\n",
       "      <td>...</td>\n",
       "      <td>...</td>\n",
       "      <td>...</td>\n",
       "      <td>...</td>\n",
       "    </tr>\n",
       "    <tr>\n",
       "      <th>148</th>\n",
       "      <td>2</td>\n",
       "      <td>1</td>\n",
       "      <td>1</td>\n",
       "      <td>80453.10</td>\n",
       "      <td>0</td>\n",
       "      <td>1</td>\n",
       "      <td>0</td>\n",
       "      <td>0</td>\n",
       "      <td>0</td>\n",
       "      <td>0</td>\n",
       "      <td>...</td>\n",
       "      <td>0</td>\n",
       "      <td>0</td>\n",
       "      <td>0</td>\n",
       "      <td>0</td>\n",
       "      <td>0</td>\n",
       "      <td>0</td>\n",
       "      <td>0</td>\n",
       "      <td>0</td>\n",
       "      <td>0</td>\n",
       "      <td>0</td>\n",
       "    </tr>\n",
       "    <tr>\n",
       "      <th>554</th>\n",
       "      <td>0</td>\n",
       "      <td>1</td>\n",
       "      <td>1</td>\n",
       "      <td>20556.50</td>\n",
       "      <td>0</td>\n",
       "      <td>0</td>\n",
       "      <td>0</td>\n",
       "      <td>0</td>\n",
       "      <td>1</td>\n",
       "      <td>0</td>\n",
       "      <td>...</td>\n",
       "      <td>0</td>\n",
       "      <td>0</td>\n",
       "      <td>0</td>\n",
       "      <td>0</td>\n",
       "      <td>0</td>\n",
       "      <td>0</td>\n",
       "      <td>0</td>\n",
       "      <td>0</td>\n",
       "      <td>1</td>\n",
       "      <td>0</td>\n",
       "    </tr>\n",
       "    <tr>\n",
       "      <th>956</th>\n",
       "      <td>0</td>\n",
       "      <td>1</td>\n",
       "      <td>1</td>\n",
       "      <td>1598.00</td>\n",
       "      <td>0</td>\n",
       "      <td>0</td>\n",
       "      <td>0</td>\n",
       "      <td>0</td>\n",
       "      <td>0</td>\n",
       "      <td>0</td>\n",
       "      <td>...</td>\n",
       "      <td>0</td>\n",
       "      <td>0</td>\n",
       "      <td>0</td>\n",
       "      <td>0</td>\n",
       "      <td>0</td>\n",
       "      <td>0</td>\n",
       "      <td>0</td>\n",
       "      <td>0</td>\n",
       "      <td>1</td>\n",
       "      <td>0</td>\n",
       "    </tr>\n",
       "    <tr>\n",
       "      <th>925</th>\n",
       "      <td>9</td>\n",
       "      <td>1</td>\n",
       "      <td>1</td>\n",
       "      <td>226926.12</td>\n",
       "      <td>0</td>\n",
       "      <td>0</td>\n",
       "      <td>0</td>\n",
       "      <td>0</td>\n",
       "      <td>1</td>\n",
       "      <td>0</td>\n",
       "      <td>...</td>\n",
       "      <td>0</td>\n",
       "      <td>0</td>\n",
       "      <td>0</td>\n",
       "      <td>0</td>\n",
       "      <td>0</td>\n",
       "      <td>0</td>\n",
       "      <td>0</td>\n",
       "      <td>0</td>\n",
       "      <td>0</td>\n",
       "      <td>0</td>\n",
       "    </tr>\n",
       "    <tr>\n",
       "      <th>942</th>\n",
       "      <td>1</td>\n",
       "      <td>1</td>\n",
       "      <td>1</td>\n",
       "      <td>52910.00</td>\n",
       "      <td>0</td>\n",
       "      <td>0</td>\n",
       "      <td>0</td>\n",
       "      <td>0</td>\n",
       "      <td>0</td>\n",
       "      <td>0</td>\n",
       "      <td>...</td>\n",
       "      <td>0</td>\n",
       "      <td>0</td>\n",
       "      <td>0</td>\n",
       "      <td>0</td>\n",
       "      <td>0</td>\n",
       "      <td>0</td>\n",
       "      <td>0</td>\n",
       "      <td>0</td>\n",
       "      <td>0</td>\n",
       "      <td>0</td>\n",
       "    </tr>\n",
       "  </tbody>\n",
       "</table>\n",
       "<p>600 rows × 61 columns</p>\n",
       "</div>"
      ],
      "text/plain": [
       "     OF_EXPIRING_PRODUCTS__C  APTS_ACCOUNT_ELIGIBLE__C  \\\n",
       "860                        0                         1   \n",
       "353                        0                         1   \n",
       "333                        0                         0   \n",
       "905                        1                         0   \n",
       "289                        0                         1   \n",
       "..                       ...                       ...   \n",
       "148                        2                         1   \n",
       "554                        0                         1   \n",
       "956                        0                         1   \n",
       "925                        9                         1   \n",
       "942                        1                         1   \n",
       "\n",
       "     NEXT_STEPS_POPULATED__C     AMOUNT  BILLING_AMOUNTMISMATCH__C  \\\n",
       "860                        1    1499.00                          0   \n",
       "353                        1   25030.00                          0   \n",
       "333                        1     667.50                          0   \n",
       "905                        1    1600.00                          0   \n",
       "289                        1    3658.00                          0   \n",
       "..                       ...        ...                        ...   \n",
       "148                        1   80453.10                          0   \n",
       "554                        1   20556.50                          0   \n",
       "956                        1    1598.00                          0   \n",
       "925                        1  226926.12                          0   \n",
       "942                        1   52910.00                          0   \n",
       "\n",
       "     CLOSE_DATE_MOVED__C  Direct - Carahsoft  Direct - DLT  \\\n",
       "860                    0                   0             0   \n",
       "353                    1                   0             0   \n",
       "333                    0                   0             0   \n",
       "905                    0                   0             0   \n",
       "289                    0                   0             0   \n",
       "..                   ...                 ...           ...   \n",
       "148                    1                   0             0   \n",
       "554                    0                   0             0   \n",
       "956                    0                   0             0   \n",
       "925                    0                   0             0   \n",
       "942                    0                   0             0   \n",
       "\n",
       "     Direct - End Customer  Direct - GTSI  ...  MED  Mexico  NOLA  NWE  \\\n",
       "860                      0              0  ...    0       0     0    0   \n",
       "353                      0              0  ...    0       0     0    0   \n",
       "333                      1              0  ...    0       0     0    0   \n",
       "905                      1              0  ...    0       0     0    0   \n",
       "289                      0              0  ...    0       0     0    0   \n",
       "..                     ...            ...  ...  ...     ...   ...  ...   \n",
       "148                      0              0  ...    0       0     0    0   \n",
       "554                      1              0  ...    0       0     0    0   \n",
       "956                      0              0  ...    0       0     0    0   \n",
       "925                      1              0  ...    0       0     0    0   \n",
       "942                      0              0  ...    0       0     0    0   \n",
       "\n",
       "     Nordics  SAC  SOLA  UKI  US  WEMEA  \n",
       "860        0    0     0    0   1      0  \n",
       "353        0    0     1    0   0      0  \n",
       "333        0    0     0    0   1      0  \n",
       "905        0    0     0    0   1      0  \n",
       "289        0    0     0    0   1      0  \n",
       "..       ...  ...   ...  ...  ..    ...  \n",
       "148        0    0     0    0   0      0  \n",
       "554        0    0     0    0   1      0  \n",
       "956        0    0     0    0   1      0  \n",
       "925        0    0     0    0   0      0  \n",
       "942        0    0     0    0   0      0  \n",
       "\n",
       "[600 rows x 61 columns]"
      ]
     },
     "execution_count": 71,
     "metadata": {},
     "output_type": "execute_result"
    }
   ],
   "source": [
    "X_test"
   ]
  },
  {
   "cell_type": "code",
   "execution_count": 72,
   "id": "31091337",
   "metadata": {},
   "outputs": [
    {
     "data": {
      "text/plain": [
       "(600, 61)"
      ]
     },
     "execution_count": 72,
     "metadata": {},
     "output_type": "execute_result"
    }
   ],
   "source": [
    "X_test.shape"
   ]
  },
  {
   "cell_type": "code",
   "execution_count": 73,
   "id": "fc3fcba7",
   "metadata": {},
   "outputs": [
    {
     "data": {
      "text/plain": [
       "(1400, 61)"
      ]
     },
     "execution_count": 73,
     "metadata": {},
     "output_type": "execute_result"
    }
   ],
   "source": [
    "X_train.shape"
   ]
  },
  {
   "cell_type": "code",
   "execution_count": 74,
   "id": "d9cd37ea",
   "metadata": {},
   "outputs": [
    {
     "data": {
      "text/plain": [
       "(1400,)"
      ]
     },
     "execution_count": 74,
     "metadata": {},
     "output_type": "execute_result"
    }
   ],
   "source": [
    "y_train.shape"
   ]
  },
  {
   "cell_type": "markdown",
   "id": "ceaa1fa7",
   "metadata": {},
   "source": [
    "## Random Forest"
   ]
  },
  {
   "cell_type": "code",
   "execution_count": 75,
   "id": "a3703935",
   "metadata": {},
   "outputs": [
    {
     "data": {
      "text/plain": [
       "RandomForestClassifier()"
      ]
     },
     "execution_count": 75,
     "metadata": {},
     "output_type": "execute_result"
    }
   ],
   "source": [
    "from sklearn.ensemble import RandomForestClassifier\n",
    "rfc = RandomForestClassifier()\n",
    "rfc.fit(X_train, y_train)"
   ]
  },
  {
   "cell_type": "code",
   "execution_count": 76,
   "id": "d9300285",
   "metadata": {},
   "outputs": [
    {
     "data": {
      "text/plain": [
       "0.9866666666666667"
      ]
     },
     "execution_count": 76,
     "metadata": {},
     "output_type": "execute_result"
    }
   ],
   "source": [
    "rfc.score(X_test,y_test)"
   ]
  },
  {
   "cell_type": "code",
   "execution_count": 77,
   "id": "b5621ba2",
   "metadata": {},
   "outputs": [
    {
     "data": {
      "text/plain": [
       "833    1\n",
       "651    0\n",
       "233    1\n",
       "502    1\n",
       "931    1\n",
       "916    0\n",
       "993    0\n",
       "429    0\n",
       "370    1\n",
       "239    0\n",
       "879    0\n",
       "620    0\n",
       "256    0\n",
       "611    0\n",
       "544    0\n",
       "Name: STAGENAME, dtype: int64"
      ]
     },
     "execution_count": 77,
     "metadata": {},
     "output_type": "execute_result"
    }
   ],
   "source": [
    "y_test[95:110]"
   ]
  },
  {
   "cell_type": "code",
   "execution_count": 78,
   "id": "08c8431e",
   "metadata": {},
   "outputs": [],
   "source": [
    "y_pred = rfc.predict(X_test)"
   ]
  },
  {
   "cell_type": "code",
   "execution_count": 79,
   "id": "61970a19",
   "metadata": {},
   "outputs": [
    {
     "data": {
      "text/plain": [
       "array([1, 0, 1, 1, 1, 0, 0, 0, 1, 0, 0, 0, 0, 0, 0], dtype=int64)"
      ]
     },
     "execution_count": 79,
     "metadata": {},
     "output_type": "execute_result"
    }
   ],
   "source": [
    "y_pred[95:110]"
   ]
  },
  {
   "cell_type": "code",
   "execution_count": 80,
   "id": "dd5b8efe",
   "metadata": {},
   "outputs": [
    {
     "data": {
      "text/plain": [
       "833    1\n",
       "651    0\n",
       "233    1\n",
       "502    1\n",
       "931    1\n",
       "916    0\n",
       "993    0\n",
       "429    0\n",
       "370    1\n",
       "239    0\n",
       "879    0\n",
       "620    0\n",
       "256    0\n",
       "611    0\n",
       "544    0\n",
       "Name: STAGENAME, dtype: int64"
      ]
     },
     "execution_count": 80,
     "metadata": {},
     "output_type": "execute_result"
    }
   ],
   "source": [
    "y_test[95:110]"
   ]
  },
  {
   "cell_type": "markdown",
   "id": "4d500d16",
   "metadata": {},
   "source": [
    "## Decision Tree"
   ]
  },
  {
   "cell_type": "code",
   "execution_count": 81,
   "id": "4af6dfbf",
   "metadata": {},
   "outputs": [
    {
     "data": {
      "text/plain": [
       "DecisionTreeClassifier()"
      ]
     },
     "execution_count": 81,
     "metadata": {},
     "output_type": "execute_result"
    }
   ],
   "source": [
    "from sklearn.tree import DecisionTreeClassifier\n",
    "dtc = DecisionTreeClassifier()\n",
    "dtc.fit(X_train, y_train)\n"
   ]
  },
  {
   "cell_type": "code",
   "execution_count": 82,
   "id": "2f345629",
   "metadata": {},
   "outputs": [],
   "source": [
    "from sklearn.model_selection import cross_val_score\n",
    "\n",
    "scores = cross_val_score(dtc, X_train, y_train, cv=10) "
   ]
  },
  {
   "cell_type": "code",
   "execution_count": 83,
   "id": "b2c315c8",
   "metadata": {},
   "outputs": [
    {
     "data": {
      "text/plain": [
       "1.0"
      ]
     },
     "execution_count": 83,
     "metadata": {},
     "output_type": "execute_result"
    }
   ],
   "source": [
    "dtc.score(X_train,y_train)"
   ]
  },
  {
   "cell_type": "code",
   "execution_count": 84,
   "id": "69bd8e96",
   "metadata": {},
   "outputs": [
    {
     "data": {
      "text/plain": [
       "0.9783333333333334"
      ]
     },
     "execution_count": 84,
     "metadata": {},
     "output_type": "execute_result"
    }
   ],
   "source": [
    "dtc.score(X_test,y_test)"
   ]
  },
  {
   "cell_type": "code",
   "execution_count": 85,
   "id": "b3b60616",
   "metadata": {},
   "outputs": [],
   "source": [
    "y_pred = dtc.predict(X_test)"
   ]
  },
  {
   "cell_type": "code",
   "execution_count": 86,
   "id": "20590a0b",
   "metadata": {},
   "outputs": [
    {
     "data": {
      "text/plain": [
       "array([1, 0, 1, 0, 1, 1, 0, 1, 0, 1], dtype=int64)"
      ]
     },
     "execution_count": 86,
     "metadata": {},
     "output_type": "execute_result"
    }
   ],
   "source": [
    "y_pred[0:10]"
   ]
  },
  {
   "cell_type": "code",
   "execution_count": 87,
   "id": "50868077",
   "metadata": {},
   "outputs": [
    {
     "data": {
      "text/plain": [
       "860    1\n",
       "353    0\n",
       "333    1\n",
       "905    0\n",
       "289    1\n",
       "273    1\n",
       "938    0\n",
       "731    1\n",
       "65     0\n",
       "323    1\n",
       "Name: STAGENAME, dtype: int64"
      ]
     },
     "execution_count": 87,
     "metadata": {},
     "output_type": "execute_result"
    }
   ],
   "source": [
    "y_test[0:10]"
   ]
  },
  {
   "cell_type": "code",
   "execution_count": 88,
   "id": "98b9a46b",
   "metadata": {},
   "outputs": [],
   "source": [
    "#import pickle\n",
    "#pickle.dump(dtc, open('Model.pkl','wb'))"
   ]
  },
  {
   "cell_type": "code",
   "execution_count": 89,
   "id": "60402136",
   "metadata": {},
   "outputs": [
    {
     "data": {
      "text/plain": [
       "Index(['OF_EXPIRING_PRODUCTS__C', 'APTS_ACCOUNT_ELIGIBLE__C',\n",
       "       'NEXT_STEPS_POPULATED__C', 'AMOUNT', 'BILLING_AMOUNTMISMATCH__C',\n",
       "       'CLOSE_DATE_MOVED__C', 'Direct - Carahsoft', 'Direct - DLT',\n",
       "       'Direct - End Customer', 'Direct - GTSI', 'Direct - VAR/VAD',\n",
       "       'Direct End Customer', 'Direct Reseller', 'Direct – OEM', 'Distributor',\n",
       "       'Indirect - Internal Commissions Credit', 'Indirect - VAR/VAD',\n",
       "       'Indirect – OEM Preload', 'Indirect – Webstore', 'OEM', 'Webstore',\n",
       "       'Channel Fulfillment', 'Credit Card', 'EMEA Purchase Order',\n",
       "       'LATAM Purchase Order', 'NA Purchase Order', 'Pre-Pay',\n",
       "       'Purchase Order', 'EMEA Sales Opportunity', 'LATAM Sales Opportunity',\n",
       "       'NA Canada Sales', 'NA Fed Sled', 'NA Sales Opportunity',\n",
       "       'Overlay Credit', 'Renewal', 'Strategic Accounts Sales',\n",
       "       'Zero Value Opportunity', 'ANZ', 'ASEAN', 'Brazil', 'CE', 'CEMEA',\n",
       "       'CENE', 'Canada', 'DACH', 'GCG', 'GEMs', 'Germany', 'India',\n",
       "       'India/Pakistan', 'Japan', 'MED', 'Mexico', 'NOLA', 'NWE', 'Nordics',\n",
       "       'SAC', 'SOLA', 'UKI', 'US', 'WEMEA'],\n",
       "      dtype='object')"
      ]
     },
     "execution_count": 89,
     "metadata": {},
     "output_type": "execute_result"
    }
   ],
   "source": [
    "X_test.columns"
   ]
  },
  {
   "cell_type": "code",
   "execution_count": 90,
   "id": "704ebff5",
   "metadata": {},
   "outputs": [
    {
     "name": "stdout",
     "output_type": "stream",
     "text": [
      "<class 'pandas.core.frame.DataFrame'>\n",
      "Int64Index: 600 entries, 860 to 942\n",
      "Data columns (total 61 columns):\n",
      " #   Column                                  Non-Null Count  Dtype  \n",
      "---  ------                                  --------------  -----  \n",
      " 0   OF_EXPIRING_PRODUCTS__C                 600 non-null    int64  \n",
      " 1   APTS_ACCOUNT_ELIGIBLE__C                600 non-null    int32  \n",
      " 2   NEXT_STEPS_POPULATED__C                 600 non-null    int32  \n",
      " 3   AMOUNT                                  600 non-null    float64\n",
      " 4   BILLING_AMOUNTMISMATCH__C               600 non-null    int32  \n",
      " 5   CLOSE_DATE_MOVED__C                     600 non-null    int32  \n",
      " 6   Direct - Carahsoft                      600 non-null    uint8  \n",
      " 7   Direct - DLT                            600 non-null    uint8  \n",
      " 8   Direct - End Customer                   600 non-null    uint8  \n",
      " 9   Direct - GTSI                           600 non-null    uint8  \n",
      " 10  Direct - VAR/VAD                        600 non-null    uint8  \n",
      " 11  Direct End Customer                     600 non-null    uint8  \n",
      " 12  Direct Reseller                         600 non-null    uint8  \n",
      " 13  Direct – OEM                            600 non-null    uint8  \n",
      " 14  Distributor                             600 non-null    uint8  \n",
      " 15  Indirect - Internal Commissions Credit  600 non-null    uint8  \n",
      " 16  Indirect - VAR/VAD                      600 non-null    uint8  \n",
      " 17  Indirect – OEM Preload                  600 non-null    uint8  \n",
      " 18  Indirect – Webstore                     600 non-null    uint8  \n",
      " 19  OEM                                     600 non-null    uint8  \n",
      " 20  Webstore                                600 non-null    uint8  \n",
      " 21  Channel Fulfillment                     600 non-null    uint8  \n",
      " 22  Credit Card                             600 non-null    uint8  \n",
      " 23  EMEA Purchase Order                     600 non-null    uint8  \n",
      " 24  LATAM Purchase Order                    600 non-null    uint8  \n",
      " 25  NA Purchase Order                       600 non-null    uint8  \n",
      " 26  Pre-Pay                                 600 non-null    uint8  \n",
      " 27  Purchase Order                          600 non-null    uint8  \n",
      " 28  EMEA Sales Opportunity                  600 non-null    uint8  \n",
      " 29  LATAM Sales Opportunity                 600 non-null    uint8  \n",
      " 30  NA Canada Sales                         600 non-null    uint8  \n",
      " 31  NA Fed Sled                             600 non-null    uint8  \n",
      " 32  NA Sales Opportunity                    600 non-null    uint8  \n",
      " 33  Overlay Credit                          600 non-null    uint8  \n",
      " 34  Renewal                                 600 non-null    uint8  \n",
      " 35  Strategic Accounts Sales                600 non-null    uint8  \n",
      " 36  Zero Value Opportunity                  600 non-null    uint8  \n",
      " 37  ANZ                                     600 non-null    uint8  \n",
      " 38  ASEAN                                   600 non-null    uint8  \n",
      " 39  Brazil                                  600 non-null    uint8  \n",
      " 40  CE                                      600 non-null    uint8  \n",
      " 41  CEMEA                                   600 non-null    uint8  \n",
      " 42  CENE                                    600 non-null    uint8  \n",
      " 43  Canada                                  600 non-null    uint8  \n",
      " 44  DACH                                    600 non-null    uint8  \n",
      " 45  GCG                                     600 non-null    uint8  \n",
      " 46  GEMs                                    600 non-null    uint8  \n",
      " 47  Germany                                 600 non-null    uint8  \n",
      " 48  India                                   600 non-null    uint8  \n",
      " 49  India/Pakistan                          600 non-null    uint8  \n",
      " 50  Japan                                   600 non-null    uint8  \n",
      " 51  MED                                     600 non-null    uint8  \n",
      " 52  Mexico                                  600 non-null    uint8  \n",
      " 53  NOLA                                    600 non-null    uint8  \n",
      " 54  NWE                                     600 non-null    uint8  \n",
      " 55  Nordics                                 600 non-null    uint8  \n",
      " 56  SAC                                     600 non-null    uint8  \n",
      " 57  SOLA                                    600 non-null    uint8  \n",
      " 58  UKI                                     600 non-null    uint8  \n",
      " 59  US                                      600 non-null    uint8  \n",
      " 60  WEMEA                                   600 non-null    uint8  \n",
      "dtypes: float64(1), int32(4), int64(1), uint8(55)\n",
      "memory usage: 55.7 KB\n"
     ]
    }
   ],
   "source": [
    "X_test.info()"
   ]
  },
  {
   "cell_type": "code",
   "execution_count": 93,
   "id": "f1bb692a",
   "metadata": {},
   "outputs": [
    {
     "data": {
      "text/html": [
       "<div>\n",
       "<style scoped>\n",
       "    .dataframe tbody tr th:only-of-type {\n",
       "        vertical-align: middle;\n",
       "    }\n",
       "\n",
       "    .dataframe tbody tr th {\n",
       "        vertical-align: top;\n",
       "    }\n",
       "\n",
       "    .dataframe thead th {\n",
       "        text-align: right;\n",
       "    }\n",
       "</style>\n",
       "<table border=\"1\" class=\"dataframe\">\n",
       "  <thead>\n",
       "    <tr style=\"text-align: right;\">\n",
       "      <th></th>\n",
       "      <th>OF_EXPIRING_PRODUCTS__C</th>\n",
       "      <th>APTS_ACCOUNT_ELIGIBLE__C</th>\n",
       "      <th>NEXT_STEPS_POPULATED__C</th>\n",
       "      <th>AMOUNT</th>\n",
       "      <th>STAGENAME</th>\n",
       "      <th>BILLING_AMOUNTMISMATCH__C</th>\n",
       "      <th>CLOSE_DATE_MOVED__C</th>\n",
       "      <th>Direct - Carahsoft</th>\n",
       "      <th>Direct - DLT</th>\n",
       "      <th>Direct - End Customer</th>\n",
       "      <th>...</th>\n",
       "      <th>MED</th>\n",
       "      <th>Mexico</th>\n",
       "      <th>NOLA</th>\n",
       "      <th>NWE</th>\n",
       "      <th>Nordics</th>\n",
       "      <th>SAC</th>\n",
       "      <th>SOLA</th>\n",
       "      <th>UKI</th>\n",
       "      <th>US</th>\n",
       "      <th>WEMEA</th>\n",
       "    </tr>\n",
       "  </thead>\n",
       "  <tbody>\n",
       "    <tr>\n",
       "      <th>859</th>\n",
       "      <td>1</td>\n",
       "      <td>1</td>\n",
       "      <td>1</td>\n",
       "      <td>423.89</td>\n",
       "      <td>0</td>\n",
       "      <td>0</td>\n",
       "      <td>0</td>\n",
       "      <td>1</td>\n",
       "      <td>0</td>\n",
       "      <td>0</td>\n",
       "      <td>...</td>\n",
       "      <td>0</td>\n",
       "      <td>0</td>\n",
       "      <td>0</td>\n",
       "      <td>0</td>\n",
       "      <td>0</td>\n",
       "      <td>0</td>\n",
       "      <td>0</td>\n",
       "      <td>0</td>\n",
       "      <td>1</td>\n",
       "      <td>0</td>\n",
       "    </tr>\n",
       "    <tr>\n",
       "      <th>860</th>\n",
       "      <td>1</td>\n",
       "      <td>1</td>\n",
       "      <td>1</td>\n",
       "      <td>3595.50</td>\n",
       "      <td>0</td>\n",
       "      <td>0</td>\n",
       "      <td>0</td>\n",
       "      <td>0</td>\n",
       "      <td>0</td>\n",
       "      <td>0</td>\n",
       "      <td>...</td>\n",
       "      <td>0</td>\n",
       "      <td>0</td>\n",
       "      <td>0</td>\n",
       "      <td>0</td>\n",
       "      <td>0</td>\n",
       "      <td>0</td>\n",
       "      <td>0</td>\n",
       "      <td>0</td>\n",
       "      <td>1</td>\n",
       "      <td>0</td>\n",
       "    </tr>\n",
       "  </tbody>\n",
       "</table>\n",
       "<p>2 rows × 62 columns</p>\n",
       "</div>"
      ],
      "text/plain": [
       "     OF_EXPIRING_PRODUCTS__C  APTS_ACCOUNT_ELIGIBLE__C  \\\n",
       "859                        1                         1   \n",
       "860                        1                         1   \n",
       "\n",
       "     NEXT_STEPS_POPULATED__C   AMOUNT  STAGENAME  BILLING_AMOUNTMISMATCH__C  \\\n",
       "859                        1   423.89          0                          0   \n",
       "860                        1  3595.50          0                          0   \n",
       "\n",
       "     CLOSE_DATE_MOVED__C  Direct - Carahsoft  Direct - DLT  \\\n",
       "859                    0                   1             0   \n",
       "860                    0                   0             0   \n",
       "\n",
       "     Direct - End Customer  ...  MED  Mexico  NOLA  NWE  Nordics  SAC  SOLA  \\\n",
       "859                      0  ...    0       0     0    0        0    0     0   \n",
       "860                      0  ...    0       0     0    0        0    0     0   \n",
       "\n",
       "     UKI  US  WEMEA  \n",
       "859    0   1      0  \n",
       "860    0   1      0  \n",
       "\n",
       "[2 rows x 62 columns]"
      ]
     },
     "execution_count": 93,
     "metadata": {},
     "output_type": "execute_result"
    }
   ],
   "source": [
    "df.iloc[859:861]"
   ]
  },
  {
   "cell_type": "code",
   "execution_count": null,
   "id": "b18b7c5a",
   "metadata": {},
   "outputs": [],
   "source": []
  }
 ],
 "metadata": {
  "kernelspec": {
   "display_name": "Python 3 (ipykernel)",
   "language": "python",
   "name": "python3"
  },
  "language_info": {
   "codemirror_mode": {
    "name": "ipython",
    "version": 3
   },
   "file_extension": ".py",
   "mimetype": "text/x-python",
   "name": "python",
   "nbconvert_exporter": "python",
   "pygments_lexer": "ipython3",
   "version": "3.9.6"
  }
 },
 "nbformat": 4,
 "nbformat_minor": 5
}
